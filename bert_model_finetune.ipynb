{
 "cells": [
  {
   "cell_type": "code",
   "execution_count": null,
   "id": "0",
   "metadata": {},
   "outputs": [],
   "source": [
    "#required package\n",
    "!pip install transformers datasets torch scikit-learn"
   ]
  },
  {
   "cell_type": "code",
   "execution_count": null,
   "id": "1",
   "metadata": {
    "id": "265d342d-d053-411b-a950-ac13506c9980"
   },
   "outputs": [],
   "source": [
    "#import Required packages\n",
    "import pandas as pd\n",
    "import matplotlib.pyplot as plt\n",
    "import re\n",
    "from datasets import Dataset\n",
    "from transformers import BertTokenizer,BertForSequenceClassification,Trainer, TrainingArguments,BertConfig\n",
    "from sklearn.model_selection import train_test_split\n",
    "from sklearn.metrics import accuracy_score, precision_recall_fscore_support,classification_report\n",
    "from transformers.trainer_callback import EarlyStoppingCallback\n",
    "import torch\n",
    "import logging"
   ]
  },
  {
   "cell_type": "code",
   "execution_count": null,
   "id": "2",
   "metadata": {
    "id": "w_PysCiHZCSo"
   },
   "outputs": [],
   "source": [
    "#Set up log\n",
    "logging.basicConfig(\n",
    "    level=logging.INFO,\n",
    "    handlers=[\n",
    "        logging.StreamHandler(),\n",
    "        logging.FileHandler('training.log')\n",
    "    ]\n",
    ")\n",
    "logger = logging.getLogger(__name__)"
   ]
  },
  {
   "cell_type": "code",
   "execution_count": null,
   "id": "3",
   "metadata": {
    "id": "db6548db-78de-4adb-990e-849d80c3a2cd"
   },
   "outputs": [],
   "source": [
    "#Read Dataset\n",
    "df=pd.read_csv(\"product_review.csv\")"
   ]
  },
  {
   "cell_type": "code",
   "execution_count": null,
   "id": "4",
   "metadata": {
    "colab": {
     "base_uri": "https://localhost:8080/",
     "height": 423
    },
    "id": "d2b04e08-af67-4a85-881b-e25f4d2ead26",
    "outputId": "121ad4de-7815-4f7e-b35e-7a27cff6e29f"
   },
   "outputs": [],
   "source": [
    "df #dataset"
   ]
  },
  {
   "cell_type": "code",
   "execution_count": null,
   "id": "5",
   "metadata": {
    "colab": {
     "base_uri": "https://localhost:8080/",
     "height": 206
    },
    "id": "88b94ab3-139e-4f66-a2d2-7da9938970e3",
    "outputId": "de1cd8e3-e59b-4bef-a086-a1ae9a9ad1d9"
   },
   "outputs": [],
   "source": [
    "df.head() #top 5 rows"
   ]
  },
  {
   "cell_type": "code",
   "execution_count": null,
   "id": "6",
   "metadata": {
    "colab": {
     "base_uri": "https://localhost:8080/",
     "height": 206
    },
    "id": "11680add-5066-4ba6-8100-d87014e65609",
    "outputId": "612162db-ba20-4b8c-f200-089ce1bd96ef"
   },
   "outputs": [],
   "source": [
    "df.tail() #Last 5 rows"
   ]
  },
  {
   "cell_type": "code",
   "execution_count": null,
   "id": "7",
   "metadata": {
    "colab": {
     "base_uri": "https://localhost:8080/"
    },
    "id": "d6a0342f-2262-4d8e-9e14-22920121c00d",
    "outputId": "f64db225-d50d-4376-9cec-13c62cfd3443"
   },
   "outputs": [],
   "source": [
    "df.info() #information about dataset"
   ]
  },
  {
   "cell_type": "code",
   "execution_count": null,
   "id": "8",
   "metadata": {
    "colab": {
     "base_uri": "https://localhost:8080/",
     "height": 147
    },
    "id": "fca487eb-52a5-4a68-8aa5-891db4b84d9f",
    "outputId": "c41b6fa4-3688-424a-cd23-6951cd8735bd"
   },
   "outputs": [],
   "source": [
    "df.isnull().sum() #check the null value"
   ]
  },
  {
   "cell_type": "code",
   "execution_count": null,
   "id": "9",
   "metadata": {
    "colab": {
     "base_uri": "https://localhost:8080/"
    },
    "id": "44835d11-1f12-4ead-84bb-17e0fc71f2c9",
    "outputId": "4a5b0090-ac95-4d92-d0be-36ba223523e5"
   },
   "outputs": [],
   "source": [
    "df.duplicated().sum() #duplicate remove"
   ]
  },
  {
   "cell_type": "code",
   "execution_count": null,
   "id": "10",
   "metadata": {
    "colab": {
     "base_uri": "https://localhost:8080/",
     "height": 178
    },
    "id": "95754458-709f-43e9-8892-b9f13ae235cf",
    "outputId": "dd4636f5-bb3d-482c-fefc-bf10d9f2c267"
   },
   "outputs": [],
   "source": [
    "df['label'].value_counts() #label count"
   ]
  },
  {
   "cell_type": "code",
   "execution_count": null,
   "id": "11",
   "metadata": {
    "colab": {
     "base_uri": "https://localhost:8080/",
     "height": 528
    },
    "id": "0414941f-8ebd-4665-829e-c9059ceee9f2",
    "outputId": "7ceaa8f0-99d7-49ce-8e8e-28f24cfccdb6"
   },
   "outputs": [],
   "source": [
    "#Distribution of labels\n",
    "data=df['label'].value_counts()\n",
    "ax=data.plot(kind='bar')\n",
    "ax.bar_label(ax.containers[0])\n",
    "plt.title(\"Distribution Of Labels\")\n",
    "plt.show()"
   ]
  },
  {
   "cell_type": "code",
   "execution_count": null,
   "id": "12",
   "metadata": {
    "colab": {
     "base_uri": "https://localhost:8080/",
     "height": 36
    },
    "id": "cb0d2da4-6ac4-4038-baf1-3f27cb3405f3",
    "outputId": "b8ce6710-3aee-4508-e264-3ee904830bae"
   },
   "outputs": [],
   "source": [
    "df['text'][0] #In dataset text col first row"
   ]
  },
  {
   "cell_type": "code",
   "execution_count": null,
   "id": "13",
   "metadata": {
    "id": "3bcf1440-a6d9-4941-ae55-5c82d697d866"
   },
   "outputs": [],
   "source": [
    "#Apply Preprocess Step On That\n",
    "def clean_text(text):\n",
    "    text = re.sub(r'<[^>]+>', ' ', text)  # Remove HTML tags\n",
    "\n",
    "    text = re.sub(r'\\s+', ' ', text).strip()  # Normalize whitespace\n",
    "\n",
    "    text = text.lower() #lowercase\n",
    "\n",
    "    return text\n",
    "\n",
    "\n",
    "df['text'] = df['text'].apply(clean_text)"
   ]
  },
  {
   "cell_type": "code",
   "execution_count": null,
   "id": "14",
   "metadata": {
    "colab": {
     "base_uri": "https://localhost:8080/",
     "height": 70
    },
    "id": "9f0a8f30-7e8a-4abf-b4e7-8dbe12e3be3e",
    "outputId": "2b40bdf7-8d10-470d-a453-61907bdf665e"
   },
   "outputs": [],
   "source": [
    "df['text'][5555]"
   ]
  },
  {
   "cell_type": "code",
   "execution_count": null,
   "id": "15",
   "metadata": {
    "id": "468c23ad-9124-4235-b59f-8fe6c718a69b"
   },
   "outputs": [],
   "source": [
    "# If your labels are __label__1 and __label__2\n",
    "def convert_label(label):\n",
    "    return 1 if label == '__label__1' else 0  # 1: churn/negative, 0: not churn/positive"
   ]
  },
  {
   "cell_type": "code",
   "execution_count": null,
   "id": "16",
   "metadata": {
    "id": "89efb10f-d0c0-4706-8b9d-fc978a6523d1"
   },
   "outputs": [],
   "source": [
    "df['label'] = df['label'].apply(convert_label)"
   ]
  },
  {
   "cell_type": "code",
   "execution_count": null,
   "id": "17",
   "metadata": {},
   "outputs": [],
   "source": [
    "df"
   ]
  },
  {
   "cell_type": "code",
   "execution_count": null,
   "id": "18",
   "metadata": {
    "id": "O35IQ2ld84oz"
   },
   "outputs": [],
   "source": [
    "#train and test split\n",
    "train_df, test_df = train_test_split(df, test_size=0.2, random_state=42)"
   ]
  },
  {
   "cell_type": "code",
   "execution_count": null,
   "id": "19",
   "metadata": {
    "colab": {
     "base_uri": "https://localhost:8080/"
    },
    "id": "4ab2a624-80ad-4ce0-b553-9ba8c3838aff",
    "outputId": "195358d2-5efb-4946-c63b-267437796e88"
   },
   "outputs": [],
   "source": [
    "train_df.shape"
   ]
  },
  {
   "cell_type": "code",
   "execution_count": null,
   "id": "20",
   "metadata": {
    "colab": {
     "base_uri": "https://localhost:8080/"
    },
    "id": "66ead363-9fea-4a3b-8cc3-8bd3c49f1443",
    "outputId": "14c0dc3b-a89e-437a-b0c1-a0eba39fb66f"
   },
   "outputs": [],
   "source": [
    "test_df.shape"
   ]
  },
  {
   "cell_type": "code",
   "execution_count": null,
   "id": "21",
   "metadata": {
    "colab": {
     "base_uri": "https://localhost:8080/",
     "height": 205,
     "referenced_widgets": [
      "d0973b6fdded4c73bb3809ad0ad64c75",
      "292393236ef2443db956ca5d2143a309",
      "e4ecc1866bb74a6ca02cc4140886aa6a",
      "cc41b497a56946668eefa997811fcc0d",
      "d7c1b2a598484fa38c8283656452da0b",
      "54c282b961424cf89fa096a4b3f5b9ea",
      "3253fb5c4d3443b6868e55e71d61d9d8",
      "94788030df9a41df9f85a7e0c71ac329",
      "227cfa3bc8384250975e702115aba476",
      "9ee2d540734940d1ad37d878a93334fa",
      "7c8b59214fa847df9d9d9b07f899740a",
      "ad7870f6ea124d24bc172f31a4f29b05",
      "eb68862f090e43378393bb775254649c",
      "308e43dde9e04598ab9a102f0d1b2bd1",
      "aa78d4bf7b324c2ba21274f43ac3101d",
      "631f9ecb65514a099ddeaaf2ad755318",
      "a16a4866d7934ad194a385dde15111ba",
      "77db486c58bb4dce992039fee53dec2a",
      "aa345b883a404ca5a7f0e97a29600908",
      "0d50eddb4cce47e98a687b27ffd75d89",
      "c3fb9fd323aa4234b18b3351bc1da9c6",
      "b26d16e47acf4a3d982231cae3814536"
     ]
    },
    "id": "de9c5e89-ada4-472c-9736-326bcd063336",
    "outputId": "593aab47-4a47-47e0-f516-1250b8122059"
   },
   "outputs": [],
   "source": [
    "#convert the dataset into huggingface format\n",
    "train_dataset = Dataset.from_pandas(train_df)\n",
    "test_dataset = Dataset.from_pandas(test_df)\n",
    "\n",
    "#bert tokenizer\n",
    "tokenizer = BertTokenizer.from_pretrained('bert-base-uncased')\n",
    "\n",
    "#tokenize function\n",
    "def tokenize_function(examples):\n",
    "    return tokenizer(examples['text'], padding='max_length', truncation=True, max_length=128)\n",
    "\n",
    "#Apply tokenization\n",
    "train_dataset = train_dataset.map(tokenize_function, batched=True)\n",
    "test_dataset = test_dataset.map(tokenize_function, batched=True)\n",
    "\n",
    "#Set format for PyTorch\n",
    "train_dataset.set_format('torch', columns=['input_ids', 'attention_mask', 'label'])\n",
    "test_dataset.set_format('torch', columns=['input_ids', 'attention_mask', 'label'])"
   ]
  },
  {
   "cell_type": "code",
   "execution_count": null,
   "id": "22",
   "metadata": {
    "colab": {
     "base_uri": "https://localhost:8080/"
    },
    "id": "dxxbwHtnLrDo",
    "outputId": "74c1bd09-e256-4a6b-a691-dde28083f8ac"
   },
   "outputs": [],
   "source": [
    "#load the bert model with number of classes and dropout\n",
    "num_labels = len(df['label'].unique())\n",
    "config = BertConfig.from_pretrained(\n",
    "    'bert-base-uncased',\n",
    "    num_labels=num_labels,\n",
    "    hidden_dropout_prob=0.15,  \n",
    "    attention_probs_dropout_prob=0.15\n",
    ")\n",
    "model = BertForSequenceClassification.from_pretrained('bert-base-uncased', config=config)"
   ]
  },
  {
   "cell_type": "code",
   "execution_count": null,
   "id": "23",
   "metadata": {
    "id": "gd-Y18GxMJCg"
   },
   "outputs": [],
   "source": [
    "#function for classification reports\n",
    "def compute_metrics(pred):\n",
    "    labels = pred.label_ids\n",
    "    preds = pred.predictions.argmax(-1)\n",
    "    precision, recall, f1, _ = precision_recall_fscore_support(labels, preds, average='weighted')\n",
    "    acc = accuracy_score(labels, preds)\n",
    "    report = classification_report(labels, preds, output_dict=True, target_names=['negative', 'positive'])\n",
    "    logger.info(f\"Classification Report:\\n{report}\")  # Log report\n",
    "    return {\n",
    "        'accuracy': acc,\n",
    "        'f1': f1,\n",
    "        'precision': precision,\n",
    "        'recall': recall,\n",
    "        'neg_precision': report['negative']['precision'],\n",
    "        'neg_recall': report['negative']['recall'],\n",
    "        'neg_f1': report['negative']['f1-score'],\n",
    "        'pos_precision': report['positive']['precision'],\n",
    "        'pos_recall': report['positive']['recall'],\n",
    "        'pos_f1': report['positive']['f1-score']\n",
    "    }"
   ]
  },
  {
   "cell_type": "code",
   "execution_count": null,
   "id": "24",
   "metadata": {
    "id": "f976aaf8-d229-45d8-844f-5f594a9b774c"
   },
   "outputs": [],
   "source": [
    "#define the traning arguments\n",
    "training_args = TrainingArguments(\n",
    "    output_dir='./results5.0',\n",
    "    num_train_epochs=2,\n",
    "    per_device_train_batch_size=16,\n",
    "    per_device_eval_batch_size=16,\n",
    "    warmup_steps=500,\n",
    "    weight_decay=0.025,  \n",
    "    logging_dir='./logs',\n",
    "    logging_steps=10,\n",
    "    eval_strategy='epoch',\n",
    "    save_strategy='epoch',\n",
    "    load_best_model_at_end=True,\n",
    "    metric_for_best_model='accuracy', \n",
    "    greater_is_better=True,\n",
    "    learning_rate=1e-5,\n",
    "    lr_scheduler_type='cosine',\n",
    "    seed=42,\n",
    ")"
   ]
  },
  {
   "cell_type": "code",
   "execution_count": null,
   "id": "25",
   "metadata": {
    "id": "fb238da4-98db-4e77-8573-1c5d71511f8f"
   },
   "outputs": [],
   "source": [
    "#Initialize trainer with EarlyStoppingCallback\n",
    "trainer = Trainer(\n",
    "    model=model,\n",
    "    args=training_args,\n",
    "    train_dataset=train_dataset,\n",
    "    eval_dataset=test_dataset,\n",
    "    compute_metrics=compute_metrics,\n",
    "    callbacks=[EarlyStoppingCallback(\n",
    "        early_stopping_patience=2,\n",
    "        early_stopping_threshold=0.00001  \n",
    "    )]\n",
    ")"
   ]
  },
  {
   "cell_type": "code",
   "execution_count": null,
   "id": "26",
   "metadata": {
    "colab": {
     "base_uri": "https://localhost:8080/",
     "height": 155
    },
    "id": "20e26b55-a30b-4503-acb9-707eec05c2f3",
    "outputId": "4ca45901-df3e-4df9-a7ab-3acaedc54134"
   },
   "outputs": [],
   "source": [
    "#train\n",
    "trainer.train()\n",
    "logger.info(f\"Training completed with {trainer.state.global_step} steps\")"
   ]
  },
  {
   "cell_type": "code",
   "execution_count": null,
   "id": "27",
   "metadata": {},
   "outputs": [],
   "source": [
    "!pip install datasets numpy --upgrade #sometimes after run this train give numpy error then run this cell."
   ]
  },
  {
   "cell_type": "code",
   "execution_count": null,
   "id": "28",
   "metadata": {
    "colab": {
     "base_uri": "https://localhost:8080/",
     "height": 74
    },
    "id": "tGlOPPRmwDR8",
    "outputId": "39bc9dbf-a185-4a54-fe91-8c0871eaaa56"
   },
   "outputs": [],
   "source": [
    "#Evaluate\n",
    "eval_results = trainer.evaluate()\n",
    "logger.info(f\"Final Evaluation Results: {eval_results}\")\n",
    "print(\"Evaluation results:\", eval_results)"
   ]
  },
  {
   "cell_type": "code",
   "execution_count": null,
   "id": "29",
   "metadata": {
    "colab": {
     "base_uri": "https://localhost:8080/",
     "height": 410
    },
    "id": "0Q1SGe3S2Z3O",
    "outputId": "56ffa90f-fc96-4bf2-b344-73a887fd67d3"
   },
   "outputs": [],
   "source": [
    "#visualize the trainin and validation loss\n",
    "epochs = [1, 2]\n",
    "training_loss = [0.211900, 0.071800]\n",
    "validation_loss = [0.189324, 0.196725]\n",
    "\n",
    "# Create the line plot\n",
    "plt.figure(figsize=(8, 4))\n",
    "plt.plot(epochs, training_loss, label='Training Loss', color='#4BC0C0', marker='o')  # Cyan\n",
    "plt.plot(epochs, validation_loss, label='Validation Loss', color='#FF6384', marker='s')  # Red\n",
    "\n",
    "# Customize the plot\n",
    "plt.xlabel('Epoch')\n",
    "plt.ylabel('Loss')\n",
    "plt.title('Training vs Validation Loss')\n",
    "plt.legend()\n",
    "plt.grid(True)\n",
    "plt.ylim(0, max(max(training_loss), max(validation_loss)) * 1.2)  # Start y-axis at 0\n",
    "\n",
    "# Save and show the plot\n",
    "plt.savefig('training_validation_loss.png')\n",
    "plt.show()"
   ]
  },
  {
   "cell_type": "code",
   "execution_count": null,
   "id": "30",
   "metadata": {
    "colab": {
     "base_uri": "https://localhost:8080/"
    },
    "id": "RlZ5z67aRvbf",
    "outputId": "d6a1ac12-94bf-499d-baff-1663507f88f1"
   },
   "outputs": [],
   "source": [
    "#save the model\n",
    "model.save_pretrained('./bert_model')\n",
    "tokenizer.save_pretrained('./bert_model')"
   ]
  },
  {
   "cell_type": "code",
   "execution_count": null,
   "id": "31",
   "metadata": {
    "colab": {
     "base_uri": "https://localhost:8080/"
    },
    "id": "KA-P4aB530rI",
    "outputId": "9926cb1f-339e-493e-9e3a-cb333d60806d"
   },
   "outputs": [],
   "source": [
    "#inference\n",
    "from transformers import pipeline\n",
    "\n",
    "classifier = pipeline('text-classification', model='./bert_model', tokenizer='./bert_model')\n",
    "text = \"I was a bit skeptical at first, but this product turned out to be amazing. It works exactly as described and the quality is top-notch. Totally worth the money!\"\n",
    "prediction = classifier(text)\n",
    "print(f\"Text: {text}\\nPrediction: {prediction}\")"
   ]
  },
  {
   "cell_type": "code",
   "execution_count": null,
   "id": "32",
   "metadata": {
    "id": "rlMDA_XL4xG_"
   },
   "outputs": [],
   "source": []
  }
 ],
 "metadata": {
  "accelerator": "GPU",
  "colab": {
   "gpuType": "T4",
   "provenance": []
  },
  "kernelspec": {
   "display_name": "Python 3 (ipykernel)",
   "language": "python",
   "name": "python3"
  },
  "language_info": {
   "codemirror_mode": {
    "name": "ipython",
    "version": 3
   },
   "file_extension": ".py",
   "mimetype": "text/x-python",
   "name": "python",
   "nbconvert_exporter": "python",
   "pygments_lexer": "ipython3",
   "version": "3.12.7"
  }
 },
 "nbformat": 4,
 "nbformat_minor": 5
}
