{
 "cells": [
  {
   "cell_type": "code",
   "execution_count": null,
   "id": "8929c91e-6e0e-49df-86c7-30399797be01",
   "metadata": {},
   "outputs": [],
   "source": [
    "#required package\n",
    "!pip install transformers datasets torch scikit-learn"
   ]
  },
  {
   "cell_type": "code",
   "execution_count": 24,
   "id": "265d342d-d053-411b-a950-ac13506c9980",
   "metadata": {
    "id": "265d342d-d053-411b-a950-ac13506c9980"
   },
   "outputs": [],
   "source": [
    "#import Required packages\n",
    "import pandas as pd\n",
    "import matplotlib.pyplot as plt\n",
    "import re\n",
    "from datasets import Dataset\n",
    "from transformers import BertTokenizer,BertForSequenceClassification,Trainer, TrainingArguments,BertConfig\n",
    "from sklearn.model_selection import train_test_split\n",
    "from sklearn.metrics import accuracy_score, precision_recall_fscore_support,classification_report\n",
    "from transformers.trainer_callback import EarlyStoppingCallback\n",
    "import torch\n",
    "import logging"
   ]
  },
  {
   "cell_type": "code",
   "execution_count": 25,
   "id": "w_PysCiHZCSo",
   "metadata": {
    "id": "w_PysCiHZCSo"
   },
   "outputs": [],
   "source": [
    "logging.basicConfig(\n",
    "    level=logging.INFO,\n",
    "    handlers=[\n",
    "        logging.StreamHandler(),\n",
    "        logging.FileHandler('training.log')\n",
    "    ]\n",
    ")\n",
    "logger = logging.getLogger(__name__)"
   ]
  },
  {
   "cell_type": "code",
   "execution_count": null,
   "id": "db6548db-78de-4adb-990e-849d80c3a2cd",
   "metadata": {
    "id": "db6548db-78de-4adb-990e-849d80c3a2cd"
   },
   "outputs": [],
   "source": [
    "#Read Dataset\n",
    "df=pd.read_csv(\"ecom_product_review.csv\")"
   ]
  },
  {
   "cell_type": "code",
   "execution_count": 27,
   "id": "d2b04e08-af67-4a85-881b-e25f4d2ead26",
   "metadata": {
    "colab": {
     "base_uri": "https://localhost:8080/",
     "height": 423
    },
    "id": "d2b04e08-af67-4a85-881b-e25f4d2ead26",
    "outputId": "121ad4de-7815-4f7e-b35e-7a27cff6e29f"
   },
   "outputs": [
    {
     "data": {
      "text/html": [
       "<div>\n",
       "<style scoped>\n",
       "    .dataframe tbody tr th:only-of-type {\n",
       "        vertical-align: middle;\n",
       "    }\n",
       "\n",
       "    .dataframe tbody tr th {\n",
       "        vertical-align: top;\n",
       "    }\n",
       "\n",
       "    .dataframe thead th {\n",
       "        text-align: right;\n",
       "    }\n",
       "</style>\n",
       "<table border=\"1\" class=\"dataframe\">\n",
       "  <thead>\n",
       "    <tr style=\"text-align: right;\">\n",
       "      <th></th>\n",
       "      <th>label</th>\n",
       "      <th>text</th>\n",
       "    </tr>\n",
       "  </thead>\n",
       "  <tbody>\n",
       "    <tr>\n",
       "      <th>0</th>\n",
       "      <td>__label__2</td>\n",
       "      <td>Metalwork for Craftsmen: I found this book ful...</td>\n",
       "    </tr>\n",
       "    <tr>\n",
       "      <th>1</th>\n",
       "      <td>__label__2</td>\n",
       "      <td>Great DVD: Bought this for my 3 year old grand...</td>\n",
       "    </tr>\n",
       "    <tr>\n",
       "      <th>2</th>\n",
       "      <td>__label__2</td>\n",
       "      <td>A gifted musical singer with a finely honed ja...</td>\n",
       "    </tr>\n",
       "    <tr>\n",
       "      <th>3</th>\n",
       "      <td>__label__2</td>\n",
       "      <td>Spring is \"MAGICAL!\": It was early spring of 1...</td>\n",
       "    </tr>\n",
       "    <tr>\n",
       "      <th>4</th>\n",
       "      <td>__label__2</td>\n",
       "      <td>it's good, oh it's darn good: Kurt Angle tells...</td>\n",
       "    </tr>\n",
       "    <tr>\n",
       "      <th>...</th>\n",
       "      <td>...</td>\n",
       "      <td>...</td>\n",
       "    </tr>\n",
       "    <tr>\n",
       "      <th>24995</th>\n",
       "      <td>__label__1</td>\n",
       "      <td>Don't do it!!: The high chair looks great when...</td>\n",
       "    </tr>\n",
       "    <tr>\n",
       "      <th>24996</th>\n",
       "      <td>__label__1</td>\n",
       "      <td>Looks nice, low functionality: I have used thi...</td>\n",
       "    </tr>\n",
       "    <tr>\n",
       "      <th>24997</th>\n",
       "      <td>__label__1</td>\n",
       "      <td>compact, but hard to clean: We have a small ho...</td>\n",
       "    </tr>\n",
       "    <tr>\n",
       "      <th>24998</th>\n",
       "      <td>__label__1</td>\n",
       "      <td>what is it saying?: not sure what this book is...</td>\n",
       "    </tr>\n",
       "    <tr>\n",
       "      <th>24999</th>\n",
       "      <td>__label__2</td>\n",
       "      <td>Makes My Blood Run Red-White-And-Blue: I agree...</td>\n",
       "    </tr>\n",
       "  </tbody>\n",
       "</table>\n",
       "<p>25000 rows × 2 columns</p>\n",
       "</div>"
      ],
      "text/plain": [
       "            label                                               text\n",
       "0      __label__2  Metalwork for Craftsmen: I found this book ful...\n",
       "1      __label__2  Great DVD: Bought this for my 3 year old grand...\n",
       "2      __label__2  A gifted musical singer with a finely honed ja...\n",
       "3      __label__2  Spring is \"MAGICAL!\": It was early spring of 1...\n",
       "4      __label__2  it's good, oh it's darn good: Kurt Angle tells...\n",
       "...           ...                                                ...\n",
       "24995  __label__1  Don't do it!!: The high chair looks great when...\n",
       "24996  __label__1  Looks nice, low functionality: I have used thi...\n",
       "24997  __label__1  compact, but hard to clean: We have a small ho...\n",
       "24998  __label__1  what is it saying?: not sure what this book is...\n",
       "24999  __label__2  Makes My Blood Run Red-White-And-Blue: I agree...\n",
       "\n",
       "[25000 rows x 2 columns]"
      ]
     },
     "execution_count": 27,
     "metadata": {},
     "output_type": "execute_result"
    }
   ],
   "source": [
    "df #dataset"
   ]
  },
  {
   "cell_type": "code",
   "execution_count": 28,
   "id": "88b94ab3-139e-4f66-a2d2-7da9938970e3",
   "metadata": {
    "colab": {
     "base_uri": "https://localhost:8080/",
     "height": 206
    },
    "id": "88b94ab3-139e-4f66-a2d2-7da9938970e3",
    "outputId": "de1cd8e3-e59b-4bef-a086-a1ae9a9ad1d9"
   },
   "outputs": [
    {
     "data": {
      "text/html": [
       "<div>\n",
       "<style scoped>\n",
       "    .dataframe tbody tr th:only-of-type {\n",
       "        vertical-align: middle;\n",
       "    }\n",
       "\n",
       "    .dataframe tbody tr th {\n",
       "        vertical-align: top;\n",
       "    }\n",
       "\n",
       "    .dataframe thead th {\n",
       "        text-align: right;\n",
       "    }\n",
       "</style>\n",
       "<table border=\"1\" class=\"dataframe\">\n",
       "  <thead>\n",
       "    <tr style=\"text-align: right;\">\n",
       "      <th></th>\n",
       "      <th>label</th>\n",
       "      <th>text</th>\n",
       "    </tr>\n",
       "  </thead>\n",
       "  <tbody>\n",
       "    <tr>\n",
       "      <th>0</th>\n",
       "      <td>__label__2</td>\n",
       "      <td>Metalwork for Craftsmen: I found this book ful...</td>\n",
       "    </tr>\n",
       "    <tr>\n",
       "      <th>1</th>\n",
       "      <td>__label__2</td>\n",
       "      <td>Great DVD: Bought this for my 3 year old grand...</td>\n",
       "    </tr>\n",
       "    <tr>\n",
       "      <th>2</th>\n",
       "      <td>__label__2</td>\n",
       "      <td>A gifted musical singer with a finely honed ja...</td>\n",
       "    </tr>\n",
       "    <tr>\n",
       "      <th>3</th>\n",
       "      <td>__label__2</td>\n",
       "      <td>Spring is \"MAGICAL!\": It was early spring of 1...</td>\n",
       "    </tr>\n",
       "    <tr>\n",
       "      <th>4</th>\n",
       "      <td>__label__2</td>\n",
       "      <td>it's good, oh it's darn good: Kurt Angle tells...</td>\n",
       "    </tr>\n",
       "  </tbody>\n",
       "</table>\n",
       "</div>"
      ],
      "text/plain": [
       "        label                                               text\n",
       "0  __label__2  Metalwork for Craftsmen: I found this book ful...\n",
       "1  __label__2  Great DVD: Bought this for my 3 year old grand...\n",
       "2  __label__2  A gifted musical singer with a finely honed ja...\n",
       "3  __label__2  Spring is \"MAGICAL!\": It was early spring of 1...\n",
       "4  __label__2  it's good, oh it's darn good: Kurt Angle tells..."
      ]
     },
     "execution_count": 28,
     "metadata": {},
     "output_type": "execute_result"
    }
   ],
   "source": [
    "df.head() #top 5 rows"
   ]
  },
  {
   "cell_type": "code",
   "execution_count": 29,
   "id": "11680add-5066-4ba6-8100-d87014e65609",
   "metadata": {
    "colab": {
     "base_uri": "https://localhost:8080/",
     "height": 206
    },
    "id": "11680add-5066-4ba6-8100-d87014e65609",
    "outputId": "612162db-ba20-4b8c-f200-089ce1bd96ef"
   },
   "outputs": [
    {
     "data": {
      "text/html": [
       "<div>\n",
       "<style scoped>\n",
       "    .dataframe tbody tr th:only-of-type {\n",
       "        vertical-align: middle;\n",
       "    }\n",
       "\n",
       "    .dataframe tbody tr th {\n",
       "        vertical-align: top;\n",
       "    }\n",
       "\n",
       "    .dataframe thead th {\n",
       "        text-align: right;\n",
       "    }\n",
       "</style>\n",
       "<table border=\"1\" class=\"dataframe\">\n",
       "  <thead>\n",
       "    <tr style=\"text-align: right;\">\n",
       "      <th></th>\n",
       "      <th>label</th>\n",
       "      <th>text</th>\n",
       "    </tr>\n",
       "  </thead>\n",
       "  <tbody>\n",
       "    <tr>\n",
       "      <th>24995</th>\n",
       "      <td>__label__1</td>\n",
       "      <td>Don't do it!!: The high chair looks great when...</td>\n",
       "    </tr>\n",
       "    <tr>\n",
       "      <th>24996</th>\n",
       "      <td>__label__1</td>\n",
       "      <td>Looks nice, low functionality: I have used thi...</td>\n",
       "    </tr>\n",
       "    <tr>\n",
       "      <th>24997</th>\n",
       "      <td>__label__1</td>\n",
       "      <td>compact, but hard to clean: We have a small ho...</td>\n",
       "    </tr>\n",
       "    <tr>\n",
       "      <th>24998</th>\n",
       "      <td>__label__1</td>\n",
       "      <td>what is it saying?: not sure what this book is...</td>\n",
       "    </tr>\n",
       "    <tr>\n",
       "      <th>24999</th>\n",
       "      <td>__label__2</td>\n",
       "      <td>Makes My Blood Run Red-White-And-Blue: I agree...</td>\n",
       "    </tr>\n",
       "  </tbody>\n",
       "</table>\n",
       "</div>"
      ],
      "text/plain": [
       "            label                                               text\n",
       "24995  __label__1  Don't do it!!: The high chair looks great when...\n",
       "24996  __label__1  Looks nice, low functionality: I have used thi...\n",
       "24997  __label__1  compact, but hard to clean: We have a small ho...\n",
       "24998  __label__1  what is it saying?: not sure what this book is...\n",
       "24999  __label__2  Makes My Blood Run Red-White-And-Blue: I agree..."
      ]
     },
     "execution_count": 29,
     "metadata": {},
     "output_type": "execute_result"
    }
   ],
   "source": [
    "df.tail() #Last 5 rows"
   ]
  },
  {
   "cell_type": "code",
   "execution_count": 30,
   "id": "d6a0342f-2262-4d8e-9e14-22920121c00d",
   "metadata": {
    "colab": {
     "base_uri": "https://localhost:8080/"
    },
    "id": "d6a0342f-2262-4d8e-9e14-22920121c00d",
    "outputId": "f64db225-d50d-4376-9cec-13c62cfd3443"
   },
   "outputs": [
    {
     "name": "stdout",
     "output_type": "stream",
     "text": [
      "<class 'pandas.core.frame.DataFrame'>\n",
      "RangeIndex: 25000 entries, 0 to 24999\n",
      "Data columns (total 2 columns):\n",
      " #   Column  Non-Null Count  Dtype \n",
      "---  ------  --------------  ----- \n",
      " 0   label   25000 non-null  object\n",
      " 1   text    25000 non-null  object\n",
      "dtypes: object(2)\n",
      "memory usage: 390.8+ KB\n"
     ]
    }
   ],
   "source": [
    "df.info() #information about dataset"
   ]
  },
  {
   "cell_type": "code",
   "execution_count": 31,
   "id": "fca487eb-52a5-4a68-8aa5-891db4b84d9f",
   "metadata": {
    "colab": {
     "base_uri": "https://localhost:8080/",
     "height": 147
    },
    "id": "fca487eb-52a5-4a68-8aa5-891db4b84d9f",
    "outputId": "c41b6fa4-3688-424a-cd23-6951cd8735bd"
   },
   "outputs": [
    {
     "data": {
      "text/plain": [
       "label    0\n",
       "text     0\n",
       "dtype: int64"
      ]
     },
     "execution_count": 31,
     "metadata": {},
     "output_type": "execute_result"
    }
   ],
   "source": [
    "df.isnull().sum() #check the null value"
   ]
  },
  {
   "cell_type": "code",
   "execution_count": 32,
   "id": "44835d11-1f12-4ead-84bb-17e0fc71f2c9",
   "metadata": {
    "colab": {
     "base_uri": "https://localhost:8080/"
    },
    "id": "44835d11-1f12-4ead-84bb-17e0fc71f2c9",
    "outputId": "4a5b0090-ac95-4d92-d0be-36ba223523e5"
   },
   "outputs": [
    {
     "data": {
      "text/plain": [
       "0"
      ]
     },
     "execution_count": 32,
     "metadata": {},
     "output_type": "execute_result"
    }
   ],
   "source": [
    "df.duplicated().sum() #duplicate remove"
   ]
  },
  {
   "cell_type": "code",
   "execution_count": 33,
   "id": "95754458-709f-43e9-8892-b9f13ae235cf",
   "metadata": {
    "colab": {
     "base_uri": "https://localhost:8080/",
     "height": 178
    },
    "id": "95754458-709f-43e9-8892-b9f13ae235cf",
    "outputId": "dd4636f5-bb3d-482c-fefc-bf10d9f2c267"
   },
   "outputs": [
    {
     "data": {
      "text/plain": [
       "label\n",
       "__label__2    12500\n",
       "__label__1    12500\n",
       "Name: count, dtype: int64"
      ]
     },
     "execution_count": 33,
     "metadata": {},
     "output_type": "execute_result"
    }
   ],
   "source": [
    "df['label'].value_counts() #label count"
   ]
  },
  {
   "cell_type": "code",
   "execution_count": 34,
   "id": "0414941f-8ebd-4665-829e-c9059ceee9f2",
   "metadata": {
    "colab": {
     "base_uri": "https://localhost:8080/",
     "height": 528
    },
    "id": "0414941f-8ebd-4665-829e-c9059ceee9f2",
    "outputId": "7ceaa8f0-99d7-49ce-8e8e-28f24cfccdb6"
   },
   "outputs": [
    {
     "data": {
      "image/png": "[encoded data removed]",
      "text/plain": [
       "<Figure size 640x480 with 1 Axes>"
      ]
     },
     "metadata": {},
     "output_type": "display_data"
    }
   ],
   "source": [
    "#Distribution of labels\n",
    "data=df['label'].value_counts()\n",
    "ax=data.plot(kind='bar')\n",
    "ax.bar_label(ax.containers[0])\n",
    "plt.title(\"Distribution Of Labels\")\n",
    "plt.show()"
   ]
  },
  {
   "cell_type": "code",
   "execution_count": 35,
   "id": "cb0d2da4-6ac4-4038-baf1-3f27cb3405f3",
   "metadata": {
    "colab": {
     "base_uri": "https://localhost:8080/",
     "height": 36
    },
    "id": "cb0d2da4-6ac4-4038-baf1-3f27cb3405f3",
    "outputId": "b8ce6710-3aee-4508-e264-3ee904830bae"
   },
   "outputs": [
    {
     "data": {
      "text/plain": [
       "'Metalwork for Craftsmen: I found this book full of helpful information, and easy to read. A must have for anyone interested in metal craft.'"
      ]
     },
     "execution_count": 35,
     "metadata": {},
     "output_type": "execute_result"
    }
   ],
   "source": [
    "df['text'][0] #In dataset text col first row"
   ]
  },
  {
   "cell_type": "code",
   "execution_count": 36,
   "id": "3bcf1440-a6d9-4941-ae55-5c82d697d866",
   "metadata": {
    "id": "3bcf1440-a6d9-4941-ae55-5c82d697d866"
   },
   "outputs": [],
   "source": [
    "#Apply Preprocess Step On That\n",
    "def clean_text(text):\n",
    "    text = re.sub(r'<[^>]+>', ' ', text)  # Remove HTML tags\n",
    "\n",
    "    text = re.sub(r'\\s+', ' ', text).strip()  # Normalize whitespace\n",
    "\n",
    "    text = text.lower() #lowercase\n",
    "\n",
    "    return text\n",
    "\n",
    "\n",
    "df['text'] = df['text'].apply(clean_text)"
   ]
  },
  {
   "cell_type": "code",
   "execution_count": 37,
   "id": "9f0a8f30-7e8a-4abf-b4e7-8dbe12e3be3e",
   "metadata": {
    "colab": {
     "base_uri": "https://localhost:8080/",
     "height": 70
    },
    "id": "9f0a8f30-7e8a-4abf-b4e7-8dbe12e3be3e",
    "outputId": "2b40bdf7-8d10-470d-a453-61907bdf665e"
   },
   "outputs": [
    {
     "data": {
      "text/plain": [
       "\"i'm glad i brought it: i love the instruction and the drum beats. i especially like the healing dance it allows me to let go of daily stress and come back to self. strange how the sounds of africa bring out the movements of my soul. i am malian american and give respect to my ancestors who dance the same dance with vigor and spirit. much love\""
      ]
     },
     "execution_count": 37,
     "metadata": {},
     "output_type": "execute_result"
    }
   ],
   "source": [
    "df['text'][5555]"
   ]
  },
  {
   "cell_type": "code",
   "execution_count": 38,
   "id": "468c23ad-9124-4235-b59f-8fe6c718a69b",
   "metadata": {
    "id": "468c23ad-9124-4235-b59f-8fe6c718a69b"
   },
   "outputs": [],
   "source": [
    "# If your labels are __label__1 and __label__2\n",
    "def convert_label(label):\n",
    "    return 1 if label == '__label__1' else 0  # 1: churn/negative, 0: not churn/positive"
   ]
  },
  {
   "cell_type": "code",
   "execution_count": 39,
   "id": "89efb10f-d0c0-4706-8b9d-fc978a6523d1",
   "metadata": {
    "id": "89efb10f-d0c0-4706-8b9d-fc978a6523d1"
   },
   "outputs": [],
   "source": [
    "df['label'] = df['label'].apply(convert_label)"
   ]
  },
  {
   "cell_type": "code",
   "execution_count": 40,
   "id": "22688f30-0885-4b63-b4e7-2ee7ab34ac7c",
   "metadata": {},
   "outputs": [
    {
     "data": {
      "text/html": [
       "<div>\n",
       "<style scoped>\n",
       "    .dataframe tbody tr th:only-of-type {\n",
       "        vertical-align: middle;\n",
       "    }\n",
       "\n",
       "    .dataframe tbody tr th {\n",
       "        vertical-align: top;\n",
       "    }\n",
       "\n",
       "    .dataframe thead th {\n",
       "        text-align: right;\n",
       "    }\n",
       "</style>\n",
       "<table border=\"1\" class=\"dataframe\">\n",
       "  <thead>\n",
       "    <tr style=\"text-align: right;\">\n",
       "      <th></th>\n",
       "      <th>label</th>\n",
       "      <th>text</th>\n",
       "    </tr>\n",
       "  </thead>\n",
       "  <tbody>\n",
       "    <tr>\n",
       "      <th>0</th>\n",
       "      <td>0</td>\n",
       "      <td>metalwork for craftsmen: i found this book ful...</td>\n",
       "    </tr>\n",
       "    <tr>\n",
       "      <th>1</th>\n",
       "      <td>0</td>\n",
       "      <td>great dvd: bought this for my 3 year old grand...</td>\n",
       "    </tr>\n",
       "    <tr>\n",
       "      <th>2</th>\n",
       "      <td>0</td>\n",
       "      <td>a gifted musical singer with a finely honed ja...</td>\n",
       "    </tr>\n",
       "    <tr>\n",
       "      <th>3</th>\n",
       "      <td>0</td>\n",
       "      <td>spring is \"magical!\": it was early spring of 1...</td>\n",
       "    </tr>\n",
       "    <tr>\n",
       "      <th>4</th>\n",
       "      <td>0</td>\n",
       "      <td>it's good, oh it's darn good: kurt angle tells...</td>\n",
       "    </tr>\n",
       "    <tr>\n",
       "      <th>...</th>\n",
       "      <td>...</td>\n",
       "      <td>...</td>\n",
       "    </tr>\n",
       "    <tr>\n",
       "      <th>24995</th>\n",
       "      <td>1</td>\n",
       "      <td>don't do it!!: the high chair looks great when...</td>\n",
       "    </tr>\n",
       "    <tr>\n",
       "      <th>24996</th>\n",
       "      <td>1</td>\n",
       "      <td>looks nice, low functionality: i have used thi...</td>\n",
       "    </tr>\n",
       "    <tr>\n",
       "      <th>24997</th>\n",
       "      <td>1</td>\n",
       "      <td>compact, but hard to clean: we have a small ho...</td>\n",
       "    </tr>\n",
       "    <tr>\n",
       "      <th>24998</th>\n",
       "      <td>1</td>\n",
       "      <td>what is it saying?: not sure what this book is...</td>\n",
       "    </tr>\n",
       "    <tr>\n",
       "      <th>24999</th>\n",
       "      <td>0</td>\n",
       "      <td>makes my blood run red-white-and-blue: i agree...</td>\n",
       "    </tr>\n",
       "  </tbody>\n",
       "</table>\n",
       "<p>25000 rows × 2 columns</p>\n",
       "</div>"
      ],
      "text/plain": [
       "       label                                               text\n",
       "0          0  metalwork for craftsmen: i found this book ful...\n",
       "1          0  great dvd: bought this for my 3 year old grand...\n",
       "2          0  a gifted musical singer with a finely honed ja...\n",
       "3          0  spring is \"magical!\": it was early spring of 1...\n",
       "4          0  it's good, oh it's darn good: kurt angle tells...\n",
       "...      ...                                                ...\n",
       "24995      1  don't do it!!: the high chair looks great when...\n",
       "24996      1  looks nice, low functionality: i have used thi...\n",
       "24997      1  compact, but hard to clean: we have a small ho...\n",
       "24998      1  what is it saying?: not sure what this book is...\n",
       "24999      0  makes my blood run red-white-and-blue: i agree...\n",
       "\n",
       "[25000 rows x 2 columns]"
      ]
     },
     "execution_count": 40,
     "metadata": {},
     "output_type": "execute_result"
    }
   ],
   "source": [
    "df"
   ]
  },
  {
   "cell_type": "code",
   "execution_count": 41,
   "id": "O35IQ2ld84oz",
   "metadata": {
    "id": "O35IQ2ld84oz"
   },
   "outputs": [],
   "source": [
    "#train and test split\n",
    "train_df, test_df = train_test_split(df, test_size=0.2, random_state=42)"
   ]
  },
  {
   "cell_type": "code",
   "execution_count": 42,
   "id": "4ab2a624-80ad-4ce0-b553-9ba8c3838aff",
   "metadata": {
    "colab": {
     "base_uri": "https://localhost:8080/"
    },
    "id": "4ab2a624-80ad-4ce0-b553-9ba8c3838aff",
    "outputId": "195358d2-5efb-4946-c63b-267437796e88"
   },
   "outputs": [
    {
     "data": {
      "text/plain": [
       "(20000, 2)"
      ]
     },
     "execution_count": 42,
     "metadata": {},
     "output_type": "execute_result"
    }
   ],
   "source": [
    "train_df.shape"
   ]
  },
  {
   "cell_type": "code",
   "execution_count": 43,
   "id": "66ead363-9fea-4a3b-8cc3-8bd3c49f1443",
   "metadata": {
    "colab": {
     "base_uri": "https://localhost:8080/"
    },
    "id": "66ead363-9fea-4a3b-8cc3-8bd3c49f1443",
    "outputId": "14c0dc3b-a89e-437a-b0c1-a0eba39fb66f"
   },
   "outputs": [
    {
     "data": {
      "text/plain": [
       "(5000, 2)"
      ]
     },
     "execution_count": 43,
     "metadata": {},
     "output_type": "execute_result"
    }
   ],
   "source": [
    "test_df.shape"
   ]
  },
  {
   "cell_type": "code",
   "execution_count": null,
   "id": "de9c5e89-ada4-472c-9736-326bcd063336",
   "metadata": {
    "colab": {
     "base_uri": "https://localhost:8080/",
     "height": 205,
     "referenced_widgets": [
      "d0973b6fdded4c73bb3809ad0ad64c75",
      "292393236ef2443db956ca5d2143a309",
      "e4ecc1866bb74a6ca02cc4140886aa6a",
      "cc41b497a56946668eefa997811fcc0d",
      "d7c1b2a598484fa38c8283656452da0b",
      "54c282b961424cf89fa096a4b3f5b9ea",
      "3253fb5c4d3443b6868e55e71d61d9d8",
      "94788030df9a41df9f85a7e0c71ac329",
      "227cfa3bc8384250975e702115aba476",
      "9ee2d540734940d1ad37d878a93334fa",
      "7c8b59214fa847df9d9d9b07f899740a",
      "ad7870f6ea124d24bc172f31a4f29b05",
      "eb68862f090e43378393bb775254649c",
      "308e43dde9e04598ab9a102f0d1b2bd1",
      "aa78d4bf7b324c2ba21274f43ac3101d",
      "631f9ecb65514a099ddeaaf2ad755318",
      "a16a4866d7934ad194a385dde15111ba",
      "77db486c58bb4dce992039fee53dec2a",
      "aa345b883a404ca5a7f0e97a29600908",
      "0d50eddb4cce47e98a687b27ffd75d89",
      "c3fb9fd323aa4234b18b3351bc1da9c6",
      "b26d16e47acf4a3d982231cae3814536"
     ]
    },
    "id": "de9c5e89-ada4-472c-9736-326bcd063336",
    "outputId": "593aab47-4a47-47e0-f516-1250b8122059"
   },
   "outputs": [
    {
     "name": "stderr",
     "output_type": "stream",
     "text": [
      "/usr/local/lib/python3.11/dist-packages/huggingface_hub/utils/_auth.py:94: UserWarning: \n",
      "The secret `HF_TOKEN` does not exist in your Colab secrets.\n",
      "To authenticate with the Hugging Face Hub, create a token in your settings tab (https://huggingface.co/settings/tokens), set it as secret in your Google Colab and restart your session.\n",
      "You will be able to reuse this secret in all of your notebooks.\n",
      "Please note that authentication is recommended but still optional to access public models or datasets.\n",
      "  warnings.warn(\n"
     ]
    },
    {
     "data": {
      "application/vnd.jupyter.widget-view+json": {
       "model_id": "d0973b6fdded4c73bb3809ad0ad64c75",
       "version_major": 2,
       "version_minor": 0
      },
      "text/plain": [
       "Map:   0%|          | 0/20000 [00:00<?, ? examples/s]"
      ]
     },
     "metadata": {},
     "output_type": "display_data"
    },
    {
     "data": {
      "application/vnd.jupyter.widget-view+json": {
       "model_id": "ad7870f6ea124d24bc172f31a4f29b05",
       "version_major": 2,
       "version_minor": 0
      },
      "text/plain": [
       "Map:   0%|          | 0/5000 [00:00<?, ? examples/s]"
      ]
     },
     "metadata": {},
     "output_type": "display_data"
    }
   ],
   "source": [
    "#convert the dataset into huggingface format\n",
    "train_dataset = Dataset.from_pandas(train_df)\n",
    "test_dataset = Dataset.from_pandas(test_df)\n",
    "\n",
    "#bert tokenizer\n",
    "tokenizer = BertTokenizer.from_pretrained('bert-base-uncased')\n",
    "\n",
    "#tokenize function\n",
    "def tokenize_function(examples):\n",
    "    return tokenizer(examples['text'], padding='max_length', truncation=True, max_length=128)\n",
    "\n",
    "#Apply tokenization\n",
    "train_dataset = train_dataset.map(tokenize_function, batched=True)\n",
    "test_dataset = test_dataset.map(tokenize_function, batched=True)\n",
    "\n",
    "#Set format for PyTorch\n",
    "train_dataset.set_format('torch', columns=['input_ids', 'attention_mask', 'label'])\n",
    "test_dataset.set_format('torch', columns=['input_ids', 'attention_mask', 'label'])"
   ]
  },
  {
   "cell_type": "code",
   "execution_count": 48,
   "id": "dxxbwHtnLrDo",
   "metadata": {
    "colab": {
     "base_uri": "https://localhost:8080/"
    },
    "id": "dxxbwHtnLrDo",
    "outputId": "74c1bd09-e256-4a6b-a691-dde28083f8ac"
   },
   "outputs": [
    {
     "name": "stderr",
     "output_type": "stream",
     "text": [
      "Some weights of BertForSequenceClassification were not initialized from the model checkpoint at bert-base-uncased and are newly initialized: ['classifier.bias', 'classifier.weight']\n",
      "You should probably TRAIN this model on a down-stream task to be able to use it for predictions and inference.\n"
     ]
    }
   ],
   "source": [
    "#load the bert model with number of classes and dropout\n",
    "num_labels = len(df['label'].unique())\n",
    "config = BertConfig.from_pretrained(\n",
    "    'bert-base-uncased',\n",
    "    num_labels=num_labels,\n",
    "    hidden_dropout_prob=0.15,  \n",
    "    attention_probs_dropout_prob=0.15\n",
    ")\n",
    "model = BertForSequenceClassification.from_pretrained('bert-base-uncased', config=config)"
   ]
  },
  {
   "cell_type": "code",
   "execution_count": 46,
   "id": "gd-Y18GxMJCg",
   "metadata": {
    "id": "gd-Y18GxMJCg"
   },
   "outputs": [],
   "source": [
    "#function for classification reports\n",
    "def compute_metrics(pred):\n",
    "    labels = pred.label_ids\n",
    "    preds = pred.predictions.argmax(-1)\n",
    "    precision, recall, f1, _ = precision_recall_fscore_support(labels, preds, average='weighted')\n",
    "    acc = accuracy_score(labels, preds)\n",
    "    report = classification_report(labels, preds, output_dict=True, target_names=['negative', 'positive'])\n",
    "    logger.info(f\"Classification Report:\\n{report}\")  # Log report\n",
    "    return {\n",
    "        'accuracy': acc,\n",
    "        'f1': f1,\n",
    "        'precision': precision,\n",
    "        'recall': recall,\n",
    "        'neg_precision': report['negative']['precision'],\n",
    "        'neg_recall': report['negative']['recall'],\n",
    "        'neg_f1': report['negative']['f1-score'],\n",
    "        'pos_precision': report['positive']['precision'],\n",
    "        'pos_recall': report['positive']['recall'],\n",
    "        'pos_f1': report['positive']['f1-score']\n",
    "    }"
   ]
  },
  {
   "cell_type": "code",
   "execution_count": 50,
   "id": "f976aaf8-d229-45d8-844f-5f594a9b774c",
   "metadata": {
    "id": "f976aaf8-d229-45d8-844f-5f594a9b774c"
   },
   "outputs": [],
   "source": [
    "#define the traning arguments\n",
    "training_args = TrainingArguments(\n",
    "    output_dir='./results5.0',\n",
    "    num_train_epochs=2,\n",
    "    per_device_train_batch_size=16,\n",
    "    per_device_eval_batch_size=16,\n",
    "    warmup_steps=500,\n",
    "    weight_decay=0.025,  \n",
    "    logging_dir='./logs',\n",
    "    logging_steps=10,\n",
    "    eval_strategy='epoch',\n",
    "    save_strategy='epoch',\n",
    "    load_best_model_at_end=True,\n",
    "    metric_for_best_model='accuracy', \n",
    "    greater_is_better=True,\n",
    "    learning_rate=1e-5,\n",
    "    lr_scheduler_type='cosine',\n",
    "    seed=42,\n",
    ")"
   ]
  },
  {
   "cell_type": "code",
   "execution_count": 51,
   "id": "fb238da4-98db-4e77-8573-1c5d71511f8f",
   "metadata": {
    "id": "fb238da4-98db-4e77-8573-1c5d71511f8f"
   },
   "outputs": [],
   "source": [
    "#Initialize trainer with EarlyStoppingCallback\n",
    "trainer = Trainer(\n",
    "    model=model,\n",
    "    args=training_args,\n",
    "    train_dataset=train_dataset,\n",
    "    eval_dataset=test_dataset,\n",
    "    compute_metrics=compute_metrics,\n",
    "    callbacks=[EarlyStoppingCallback(\n",
    "        early_stopping_patience=2,\n",
    "        early_stopping_threshold=0.00001  \n",
    "    )]\n",
    ")"
   ]
  },
  {
   "cell_type": "code",
   "execution_count": null,
   "id": "20e26b55-a30b-4503-acb9-707eec05c2f3",
   "metadata": {
    "colab": {
     "base_uri": "https://localhost:8080/",
     "height": 155
    },
    "id": "20e26b55-a30b-4503-acb9-707eec05c2f3",
    "outputId": "4ca45901-df3e-4df9-a7ab-3acaedc54134"
   },
   "outputs": [
    {
     "data": {
      "text/html": [
       "\n",
       "    <div>\n",
       "      \n",
       "      <progress value='2500' max='2500' style='width:300px; height:20px; vertical-align: middle;'></progress>\n",
       "      [2500/2500 17:01, Epoch 2/2]\n",
       "    </div>\n",
       "    <table border=\"1\" class=\"dataframe\">\n",
       "  <thead>\n",
       " <tr style=\"text-align: left;\">\n",
       "      <th>Epoch</th>\n",
       "      <th>Training Loss</th>\n",
       "      <th>Validation Loss</th>\n",
       "      <th>Accuracy</th>\n",
       "      <th>F1</th>\n",
       "      <th>Precision</th>\n",
       "      <th>Recall</th>\n",
       "      <th>Neg Precision</th>\n",
       "      <th>Neg Recall</th>\n",
       "      <th>Neg F1</th>\n",
       "      <th>Pos Precision</th>\n",
       "      <th>Pos Recall</th>\n",
       "      <th>Pos F1</th>\n",
       "    </tr>\n",
       "  </thead>\n",
       "  <tbody>\n",
       "    <tr>\n",
       "      <td>1</td>\n",
       "      <td>0.211900</td>\n",
       "      <td>0.189324</td>\n",
       "      <td>0.942400</td>\n",
       "      <td>0.942388</td>\n",
       "      <td>0.942564</td>\n",
       "      <td>0.942400</td>\n",
       "      <td>0.950867</td>\n",
       "      <td>0.931634</td>\n",
       "      <td>0.941152</td>\n",
       "      <td>0.934445</td>\n",
       "      <td>0.952927</td>\n",
       "      <td>0.943596</td>\n",
       "    </tr>\n",
       "    <tr>\n",
       "      <td>2</td>\n",
       "      <td>0.071800</td>\n",
       "      <td>0.196725</td>\n",
       "      <td>0.947800</td>\n",
       "      <td>0.947801</td>\n",
       "      <td>0.947820</td>\n",
       "      <td>0.947800</td>\n",
       "      <td>0.944511</td>\n",
       "      <td>0.950243</td>\n",
       "      <td>0.947368</td>\n",
       "      <td>0.951055</td>\n",
       "      <td>0.945411</td>\n",
       "      <td>0.948225</td>\n",
       "    </tr>\n",
       "  </tbody>\n",
       "</table><p>"
      ],
      "text/plain": [
       "<IPython.core.display.HTML object>"
      ]
     },
     "metadata": {},
     "output_type": "display_data"
    }
   ],
   "source": [
    "#train\n",
    "trainer.train()\n",
    "logger.info(f\"Training completed with {trainer.state.global_step} steps\")"
   ]
  },
  {
   "cell_type": "code",
   "execution_count": null,
   "id": "afe11de9-7552-4529-9d37-2c199af8ea50",
   "metadata": {},
   "outputs": [],
   "source": [
    "!pip install datasets numpy --upgrade #sometimes after run this train give numpy error then run this cell."
   ]
  },
  {
   "cell_type": "code",
   "execution_count": null,
   "id": "tGlOPPRmwDR8",
   "metadata": {
    "colab": {
     "base_uri": "https://localhost:8080/",
     "height": 74
    },
    "id": "tGlOPPRmwDR8",
    "outputId": "39bc9dbf-a185-4a54-fe91-8c0871eaaa56"
   },
   "outputs": [
    {
     "data": {
      "text/html": [
       "\n",
       "    <div>\n",
       "      \n",
       "      <progress value='313' max='313' style='width:300px; height:20px; vertical-align: middle;'></progress>\n",
       "      [313/313 00:35]\n",
       "    </div>\n",
       "    "
      ],
      "text/plain": [
       "<IPython.core.display.HTML object>"
      ]
     },
     "metadata": {},
     "output_type": "display_data"
    },
    {
     "name": "stdout",
     "output_type": "stream",
     "text": [
      "Evaluation results: {'eval_loss': 0.1967254877090454, 'eval_accuracy': 0.9478, 'eval_f1': 0.9478012842063499, 'eval_precision': 0.9478196291707729, 'eval_recall': 0.9478, 'eval_neg_precision': 0.9445114595898673, 'eval_neg_recall': 0.9502427184466019, 'eval_neg_f1': 0.9473684210526315, 'eval_pos_precision': 0.9510545165141265, 'eval_pos_recall': 0.9454113924050633, 'eval_pos_f1': 0.9482245586193215, 'eval_runtime': 35.9072, 'eval_samples_per_second': 139.248, 'eval_steps_per_second': 8.717, 'epoch': 2.0}\n"
     ]
    }
   ],
   "source": [
    "#Evaluate\n",
    "eval_results = trainer.evaluate()\n",
    "logger.info(f\"Final Evaluation Results: {eval_results}\")\n",
    "print(\"Evaluation results:\", eval_results)"
   ]
  },
  {
   "cell_type": "code",
   "execution_count": null,
   "id": "0Q1SGe3S2Z3O",
   "metadata": {
    "colab": {
     "base_uri": "https://localhost:8080/",
     "height": 410
    },
    "id": "0Q1SGe3S2Z3O",
    "outputId": "56ffa90f-fc96-4bf2-b344-73a887fd67d3"
   },
   "outputs": [
    {
     "data": {
      "image/png": "[encoded data removed]",
      "text/plain": [
       "<Figure size 800x400 with 1 Axes>"
      ]
     },
     "metadata": {},
     "output_type": "display_data"
    }
   ],
   "source": [
    "#visualize the trainin and validation loss\n",
    "epochs = [1, 2]\n",
    "training_loss = [0.211900, 0.071800]\n",
    "validation_loss = [0.189324, 0.196725]\n",
    "\n",
    "# Create the line plot\n",
    "plt.figure(figsize=(8, 4))\n",
    "plt.plot(epochs, training_loss, label='Training Loss', color='#4BC0C0', marker='o')  # Cyan\n",
    "plt.plot(epochs, validation_loss, label='Validation Loss', color='#FF6384', marker='s')  # Red\n",
    "\n",
    "# Customize the plot\n",
    "plt.xlabel('Epoch')\n",
    "plt.ylabel('Loss')\n",
    "plt.title('Training vs Validation Loss')\n",
    "plt.legend()\n",
    "plt.grid(True)\n",
    "plt.ylim(0, max(max(training_loss), max(validation_loss)) * 1.2)  # Start y-axis at 0\n",
    "\n",
    "# Save and show the plot\n",
    "plt.savefig('training_validation_loss.png')\n",
    "plt.show()"
   ]
  },
  {
   "cell_type": "code",
   "execution_count": null,
   "id": "RlZ5z67aRvbf",
   "metadata": {
    "colab": {
     "base_uri": "https://localhost:8080/"
    },
    "id": "RlZ5z67aRvbf",
    "outputId": "d6a1ac12-94bf-499d-baff-1663507f88f1"
   },
   "outputs": [
    {
     "data": {
      "text/plain": [
       "('./bert_model/tokenizer_config.json',\n",
       " './bert_model/special_tokens_map.json',\n",
       " './bert_model/vocab.txt',\n",
       " './bert_model/added_tokens.json')"
      ]
     },
     "execution_count": 68,
     "metadata": {},
     "output_type": "execute_result"
    }
   ],
   "source": [
    "#save the model\n",
    "model.save_pretrained('./bert_model')\n",
    "tokenizer.save_pretrained('./bert_model')"
   ]
  },
  {
   "cell_type": "code",
   "execution_count": 1,
   "id": "KA-P4aB530rI",
   "metadata": {
    "colab": {
     "base_uri": "https://localhost:8080/"
    },
    "id": "KA-P4aB530rI",
    "outputId": "9926cb1f-339e-493e-9e3a-cb333d60806d"
   },
   "outputs": [
    {
     "name": "stderr",
     "output_type": "stream",
     "text": [
      "Device set to use cpu\n"
     ]
    },
    {
     "name": "stdout",
     "output_type": "stream",
     "text": [
      "Text: I was a bit skeptical at first, but this product turned out to be amazing. It works exactly as described and the quality is top-notch. Totally worth the money!\n",
      "Prediction: [{'label': 'LABEL_0', 'score': 0.9982770681381226}]\n"
     ]
    }
   ],
   "source": [
    "#inference\n",
    "from transformers import pipeline\n",
    "\n",
    "classifier = pipeline('text-classification', model='./bert_model', tokenizer='./bert_model')\n",
    "text = \"I was a bit skeptical at first, but this product turned out to be amazing. It works exactly as described and the quality is top-notch. Totally worth the money!\"\n",
    "prediction = classifier(text)\n",
    "print(f\"Text: {text}\\nPrediction: {prediction}\")"
   ]
  },
  {
   "cell_type": "code",
   "execution_count": null,
   "id": "rlMDA_XL4xG_",
   "metadata": {
    "id": "rlMDA_XL4xG_"
   },
   "outputs": [],
   "source": []
  }
 ],
 "metadata": {
  "accelerator": "GPU",
  "colab": {
   "gpuType": "T4",
   "provenance": []
  },
  "kernelspec": {
   "display_name": "Python 3 (ipykernel)",
   "language": "python",
   "name": "python3"
  },
  "language_info": {
   "codemirror_mode": {
    "name": "ipython",
    "version": 3
   },
   "file_extension": ".py",
   "mimetype": "text/x-python",
   "name": "python",
   "nbconvert_exporter": "python",
   "pygments_lexer": "ipython3",
   "version": "3.12.7"
  },
  "widgets": {
   "application/vnd.jupyter.widget-state+json": {
    "0d50eddb4cce47e98a687b27ffd75d89": {
     "model_module": "@jupyter-widgets/controls",
     "model_module_version": "1.5.0",
     "model_name": "ProgressStyleModel",
     "state": {
      "_model_module": "@jupyter-widgets/controls",
      "_model_module_version": "1.5.0",
      "_model_name": "ProgressStyleModel",
      "_view_count": null,
      "_view_module": "@jupyter-widgets/base",
      "_view_module_version": "1.2.0",
      "_view_name": "StyleView",
      "bar_color": null,
      "description_width": ""
     }
    },
    "227cfa3bc8384250975e702115aba476": {
     "model_module": "@jupyter-widgets/controls",
     "model_module_version": "1.5.0",
     "model_name": "ProgressStyleModel",
     "state": {
      "_model_module": "@jupyter-widgets/controls",
      "_model_module_version": "1.5.0",
      "_model_name": "ProgressStyleModel",
      "_view_count": null,
      "_view_module": "@jupyter-widgets/base",
      "_view_module_version": "1.2.0",
      "_view_name": "StyleView",
      "bar_color": null,
      "description_width": ""
     }
    },
    "292393236ef2443db956ca5d2143a309": {
     "model_module": "@jupyter-widgets/controls",
     "model_module_version": "1.5.0",
     "model_name": "HTMLModel",
     "state": {
      "_dom_classes": [],
      "_model_module": "@jupyter-widgets/controls",
      "_model_module_version": "1.5.0",
      "_model_name": "HTMLModel",
      "_view_count": null,
      "_view_module": "@jupyter-widgets/controls",
      "_view_module_version": "1.5.0",
      "_view_name": "HTMLView",
      "description": "",
      "description_tooltip": null,
      "layout": "IPY_MODEL_54c282b961424cf89fa096a4b3f5b9ea",
      "placeholder": "​",
      "style": "IPY_MODEL_3253fb5c4d3443b6868e55e71d61d9d8",
      "value": "Map: 100%"
     }
    },
    "308e43dde9e04598ab9a102f0d1b2bd1": {
     "model_module": "@jupyter-widgets/controls",
     "model_module_version": "1.5.0",
     "model_name": "FloatProgressModel",
     "state": {
      "_dom_classes": [],
      "_model_module": "@jupyter-widgets/controls",
      "_model_module_version": "1.5.0",
      "_model_name": "FloatProgressModel",
      "_view_count": null,
      "_view_module": "@jupyter-widgets/controls",
      "_view_module_version": "1.5.0",
      "_view_name": "ProgressView",
      "bar_style": "success",
      "description": "",
      "description_tooltip": null,
      "layout": "IPY_MODEL_aa345b883a404ca5a7f0e97a29600908",
      "max": 5000,
      "min": 0,
      "orientation": "horizontal",
      "style": "IPY_MODEL_0d50eddb4cce47e98a687b27ffd75d89",
      "value": 5000
     }
    },
    "3253fb5c4d3443b6868e55e71d61d9d8": {
     "model_module": "@jupyter-widgets/controls",
     "model_module_version": "1.5.0",
     "model_name": "DescriptionStyleModel",
     "state": {
      "_model_module": "@jupyter-widgets/controls",
      "_model_module_version": "1.5.0",
      "_model_name": "DescriptionStyleModel",
      "_view_count": null,
      "_view_module": "@jupyter-widgets/base",
      "_view_module_version": "1.2.0",
      "_view_name": "StyleView",
      "description_width": ""
     }
    },
    "54c282b961424cf89fa096a4b3f5b9ea": {
     "model_module": "@jupyter-widgets/base",
     "model_module_version": "1.2.0",
     "model_name": "LayoutModel",
     "state": {
      "_model_module": "@jupyter-widgets/base",
      "_model_module_version": "1.2.0",
      "_model_name": "LayoutModel",
      "_view_count": null,
      "_view_module": "@jupyter-widgets/base",
      "_view_module_version": "1.2.0",
      "_view_name": "LayoutView",
      "align_content": null,
      "align_items": null,
      "align_self": null,
      "border": null,
      "bottom": null,
      "display": null,
      "flex": null,
      "flex_flow": null,
      "grid_area": null,
      "grid_auto_columns": null,
      "grid_auto_flow": null,
      "grid_auto_rows": null,
      "grid_column": null,
      "grid_gap": null,
      "grid_row": null,
      "grid_template_areas": null,
      "grid_template_columns": null,
      "grid_template_rows": null,
      "height": null,
      "justify_content": null,
      "justify_items": null,
      "left": null,
      "margin": null,
      "max_height": null,
      "max_width": null,
      "min_height": null,
      "min_width": null,
      "object_fit": null,
      "object_position": null,
      "order": null,
      "overflow": null,
      "overflow_x": null,
      "overflow_y": null,
      "padding": null,
      "right": null,
      "top": null,
      "visibility": null,
      "width": null
     }
    },
    "631f9ecb65514a099ddeaaf2ad755318": {
     "model_module": "@jupyter-widgets/base",
     "model_module_version": "1.2.0",
     "model_name": "LayoutModel",
     "state": {
      "_model_module": "@jupyter-widgets/base",
      "_model_module_version": "1.2.0",
      "_model_name": "LayoutModel",
      "_view_count": null,
      "_view_module": "@jupyter-widgets/base",
      "_view_module_version": "1.2.0",
      "_view_name": "LayoutView",
      "align_content": null,
      "align_items": null,
      "align_self": null,
      "border": null,
      "bottom": null,
      "display": null,
      "flex": null,
      "flex_flow": null,
      "grid_area": null,
      "grid_auto_columns": null,
      "grid_auto_flow": null,
      "grid_auto_rows": null,
      "grid_column": null,
      "grid_gap": null,
      "grid_row": null,
      "grid_template_areas": null,
      "grid_template_columns": null,
      "grid_template_rows": null,
      "height": null,
      "justify_content": null,
      "justify_items": null,
      "left": null,
      "margin": null,
      "max_height": null,
      "max_width": null,
      "min_height": null,
      "min_width": null,
      "object_fit": null,
      "object_position": null,
      "order": null,
      "overflow": null,
      "overflow_x": null,
      "overflow_y": null,
      "padding": null,
      "right": null,
      "top": null,
      "visibility": null,
      "width": null
     }
    },
    "77db486c58bb4dce992039fee53dec2a": {
     "model_module": "@jupyter-widgets/controls",
     "model_module_version": "1.5.0",
     "model_name": "DescriptionStyleModel",
     "state": {
      "_model_module": "@jupyter-widgets/controls",
      "_model_module_version": "1.5.0",
      "_model_name": "DescriptionStyleModel",
      "_view_count": null,
      "_view_module": "@jupyter-widgets/base",
      "_view_module_version": "1.2.0",
      "_view_name": "StyleView",
      "description_width": ""
     }
    },
    "7c8b59214fa847df9d9d9b07f899740a": {
     "model_module": "@jupyter-widgets/controls",
     "model_module_version": "1.5.0",
     "model_name": "DescriptionStyleModel",
     "state": {
      "_model_module": "@jupyter-widgets/controls",
      "_model_module_version": "1.5.0",
      "_model_name": "DescriptionStyleModel",
      "_view_count": null,
      "_view_module": "@jupyter-widgets/base",
      "_view_module_version": "1.2.0",
      "_view_name": "StyleView",
      "description_width": ""
     }
    },
    "94788030df9a41df9f85a7e0c71ac329": {
     "model_module": "@jupyter-widgets/base",
     "model_module_version": "1.2.0",
     "model_name": "LayoutModel",
     "state": {
      "_model_module": "@jupyter-widgets/base",
      "_model_module_version": "1.2.0",
      "_model_name": "LayoutModel",
      "_view_count": null,
      "_view_module": "@jupyter-widgets/base",
      "_view_module_version": "1.2.0",
      "_view_name": "LayoutView",
      "align_content": null,
      "align_items": null,
      "align_self": null,
      "border": null,
      "bottom": null,
      "display": null,
      "flex": null,
      "flex_flow": null,
      "grid_area": null,
      "grid_auto_columns": null,
      "grid_auto_flow": null,
      "grid_auto_rows": null,
      "grid_column": null,
      "grid_gap": null,
      "grid_row": null,
      "grid_template_areas": null,
      "grid_template_columns": null,
      "grid_template_rows": null,
      "height": null,
      "justify_content": null,
      "justify_items": null,
      "left": null,
      "margin": null,
      "max_height": null,
      "max_width": null,
      "min_height": null,
      "min_width": null,
      "object_fit": null,
      "object_position": null,
      "order": null,
      "overflow": null,
      "overflow_x": null,
      "overflow_y": null,
      "padding": null,
      "right": null,
      "top": null,
      "visibility": null,
      "width": null
     }
    },
    "9ee2d540734940d1ad37d878a93334fa": {
     "model_module": "@jupyter-widgets/base",
     "model_module_version": "1.2.0",
     "model_name": "LayoutModel",
     "state": {
      "_model_module": "@jupyter-widgets/base",
      "_model_module_version": "1.2.0",
      "_model_name": "LayoutModel",
      "_view_count": null,
      "_view_module": "@jupyter-widgets/base",
      "_view_module_version": "1.2.0",
      "_view_name": "LayoutView",
      "align_content": null,
      "align_items": null,
      "align_self": null,
      "border": null,
      "bottom": null,
      "display": null,
      "flex": null,
      "flex_flow": null,
      "grid_area": null,
      "grid_auto_columns": null,
      "grid_auto_flow": null,
      "grid_auto_rows": null,
      "grid_column": null,
      "grid_gap": null,
      "grid_row": null,
      "grid_template_areas": null,
      "grid_template_columns": null,
      "grid_template_rows": null,
      "height": null,
      "justify_content": null,
      "justify_items": null,
      "left": null,
      "margin": null,
      "max_height": null,
      "max_width": null,
      "min_height": null,
      "min_width": null,
      "object_fit": null,
      "object_position": null,
      "order": null,
      "overflow": null,
      "overflow_x": null,
      "overflow_y": null,
      "padding": null,
      "right": null,
      "top": null,
      "visibility": null,
      "width": null
     }
    },
    "a16a4866d7934ad194a385dde15111ba": {
     "model_module": "@jupyter-widgets/base",
     "model_module_version": "1.2.0",
     "model_name": "LayoutModel",
     "state": {
      "_model_module": "@jupyter-widgets/base",
      "_model_module_version": "1.2.0",
      "_model_name": "LayoutModel",
      "_view_count": null,
      "_view_module": "@jupyter-widgets/base",
      "_view_module_version": "1.2.0",
      "_view_name": "LayoutView",
      "align_content": null,
      "align_items": null,
      "align_self": null,
      "border": null,
      "bottom": null,
      "display": null,
      "flex": null,
      "flex_flow": null,
      "grid_area": null,
      "grid_auto_columns": null,
      "grid_auto_flow": null,
      "grid_auto_rows": null,
      "grid_column": null,
      "grid_gap": null,
      "grid_row": null,
      "grid_template_areas": null,
      "grid_template_columns": null,
      "grid_template_rows": null,
      "height": null,
      "justify_content": null,
      "justify_items": null,
      "left": null,
      "margin": null,
      "max_height": null,
      "max_width": null,
      "min_height": null,
      "min_width": null,
      "object_fit": null,
      "object_position": null,
      "order": null,
      "overflow": null,
      "overflow_x": null,
      "overflow_y": null,
      "padding": null,
      "right": null,
      "top": null,
      "visibility": null,
      "width": null
     }
    },
    "aa345b883a404ca5a7f0e97a29600908": {
     "model_module": "@jupyter-widgets/base",
     "model_module_version": "1.2.0",
     "model_name": "LayoutModel",
     "state": {
      "_model_module": "@jupyter-widgets/base",
      "_model_module_version": "1.2.0",
      "_model_name": "LayoutModel",
      "_view_count": null,
      "_view_module": "@jupyter-widgets/base",
      "_view_module_version": "1.2.0",
      "_view_name": "LayoutView",
      "align_content": null,
      "align_items": null,
      "align_self": null,
      "border": null,
      "bottom": null,
      "display": null,
      "flex": null,
      "flex_flow": null,
      "grid_area": null,
      "grid_auto_columns": null,
      "grid_auto_flow": null,
      "grid_auto_rows": null,
      "grid_column": null,
      "grid_gap": null,
      "grid_row": null,
      "grid_template_areas": null,
      "grid_template_columns": null,
      "grid_template_rows": null,
      "height": null,
      "justify_content": null,
      "justify_items": null,
      "left": null,
      "margin": null,
      "max_height": null,
      "max_width": null,
      "min_height": null,
      "min_width": null,
      "object_fit": null,
      "object_position": null,
      "order": null,
      "overflow": null,
      "overflow_x": null,
      "overflow_y": null,
      "padding": null,
      "right": null,
      "top": null,
      "visibility": null,
      "width": null
     }
    },
    "aa78d4bf7b324c2ba21274f43ac3101d": {
     "model_module": "@jupyter-widgets/controls",
     "model_module_version": "1.5.0",
     "model_name": "HTMLModel",
     "state": {
      "_dom_classes": [],
      "_model_module": "@jupyter-widgets/controls",
      "_model_module_version": "1.5.0",
      "_model_name": "HTMLModel",
      "_view_count": null,
      "_view_module": "@jupyter-widgets/controls",
      "_view_module_version": "1.5.0",
      "_view_name": "HTMLView",
      "description": "",
      "description_tooltip": null,
      "layout": "IPY_MODEL_c3fb9fd323aa4234b18b3351bc1da9c6",
      "placeholder": "​",
      "style": "IPY_MODEL_b26d16e47acf4a3d982231cae3814536",
      "value": " 5000/5000 [00:07&lt;00:00, 656.47 examples/s]"
     }
    },
    "ad7870f6ea124d24bc172f31a4f29b05": {
     "model_module": "@jupyter-widgets/controls",
     "model_module_version": "1.5.0",
     "model_name": "HBoxModel",
     "state": {
      "_dom_classes": [],
      "_model_module": "@jupyter-widgets/controls",
      "_model_module_version": "1.5.0",
      "_model_name": "HBoxModel",
      "_view_count": null,
      "_view_module": "@jupyter-widgets/controls",
      "_view_module_version": "1.5.0",
      "_view_name": "HBoxView",
      "box_style": "",
      "children": [
       "IPY_MODEL_eb68862f090e43378393bb775254649c",
       "IPY_MODEL_308e43dde9e04598ab9a102f0d1b2bd1",
       "IPY_MODEL_aa78d4bf7b324c2ba21274f43ac3101d"
      ],
      "layout": "IPY_MODEL_631f9ecb65514a099ddeaaf2ad755318"
     }
    },
    "b26d16e47acf4a3d982231cae3814536": {
     "model_module": "@jupyter-widgets/controls",
     "model_module_version": "1.5.0",
     "model_name": "DescriptionStyleModel",
     "state": {
      "_model_module": "@jupyter-widgets/controls",
      "_model_module_version": "1.5.0",
      "_model_name": "DescriptionStyleModel",
      "_view_count": null,
      "_view_module": "@jupyter-widgets/base",
      "_view_module_version": "1.2.0",
      "_view_name": "StyleView",
      "description_width": ""
     }
    },
    "c3fb9fd323aa4234b18b3351bc1da9c6": {
     "model_module": "@jupyter-widgets/base",
     "model_module_version": "1.2.0",
     "model_name": "LayoutModel",
     "state": {
      "_model_module": "@jupyter-widgets/base",
      "_model_module_version": "1.2.0",
      "_model_name": "LayoutModel",
      "_view_count": null,
      "_view_module": "@jupyter-widgets/base",
      "_view_module_version": "1.2.0",
      "_view_name": "LayoutView",
      "align_content": null,
      "align_items": null,
      "align_self": null,
      "border": null,
      "bottom": null,
      "display": null,
      "flex": null,
      "flex_flow": null,
      "grid_area": null,
      "grid_auto_columns": null,
      "grid_auto_flow": null,
      "grid_auto_rows": null,
      "grid_column": null,
      "grid_gap": null,
      "grid_row": null,
      "grid_template_areas": null,
      "grid_template_columns": null,
      "grid_template_rows": null,
      "height": null,
      "justify_content": null,
      "justify_items": null,
      "left": null,
      "margin": null,
      "max_height": null,
      "max_width": null,
      "min_height": null,
      "min_width": null,
      "object_fit": null,
      "object_position": null,
      "order": null,
      "overflow": null,
      "overflow_x": null,
      "overflow_y": null,
      "padding": null,
      "right": null,
      "top": null,
      "visibility": null,
      "width": null
     }
    },
    "cc41b497a56946668eefa997811fcc0d": {
     "model_module": "@jupyter-widgets/controls",
     "model_module_version": "1.5.0",
     "model_name": "HTMLModel",
     "state": {
      "_dom_classes": [],
      "_model_module": "@jupyter-widgets/controls",
      "_model_module_version": "1.5.0",
      "_model_name": "HTMLModel",
      "_view_count": null,
      "_view_module": "@jupyter-widgets/controls",
      "_view_module_version": "1.5.0",
      "_view_name": "HTMLView",
      "description": "",
      "description_tooltip": null,
      "layout": "IPY_MODEL_9ee2d540734940d1ad37d878a93334fa",
      "placeholder": "​",
      "style": "IPY_MODEL_7c8b59214fa847df9d9d9b07f899740a",
      "value": " 20000/20000 [01:18&lt;00:00, 580.66 examples/s]"
     }
    },
    "d0973b6fdded4c73bb3809ad0ad64c75": {
     "model_module": "@jupyter-widgets/controls",
     "model_module_version": "1.5.0",
     "model_name": "HBoxModel",
     "state": {
      "_dom_classes": [],
      "_model_module": "@jupyter-widgets/controls",
      "_model_module_version": "1.5.0",
      "_model_name": "HBoxModel",
      "_view_count": null,
      "_view_module": "@jupyter-widgets/controls",
      "_view_module_version": "1.5.0",
      "_view_name": "HBoxView",
      "box_style": "",
      "children": [
       "IPY_MODEL_292393236ef2443db956ca5d2143a309",
       "IPY_MODEL_e4ecc1866bb74a6ca02cc4140886aa6a",
       "IPY_MODEL_cc41b497a56946668eefa997811fcc0d"
      ],
      "layout": "IPY_MODEL_d7c1b2a598484fa38c8283656452da0b"
     }
    },
    "d7c1b2a598484fa38c8283656452da0b": {
     "model_module": "@jupyter-widgets/base",
     "model_module_version": "1.2.0",
     "model_name": "LayoutModel",
     "state": {
      "_model_module": "@jupyter-widgets/base",
      "_model_module_version": "1.2.0",
      "_model_name": "LayoutModel",
      "_view_count": null,
      "_view_module": "@jupyter-widgets/base",
      "_view_module_version": "1.2.0",
      "_view_name": "LayoutView",
      "align_content": null,
      "align_items": null,
      "align_self": null,
      "border": null,
      "bottom": null,
      "display": null,
      "flex": null,
      "flex_flow": null,
      "grid_area": null,
      "grid_auto_columns": null,
      "grid_auto_flow": null,
      "grid_auto_rows": null,
      "grid_column": null,
      "grid_gap": null,
      "grid_row": null,
      "grid_template_areas": null,
      "grid_template_columns": null,
      "grid_template_rows": null,
      "height": null,
      "justify_content": null,
      "justify_items": null,
      "left": null,
      "margin": null,
      "max_height": null,
      "max_width": null,
      "min_height": null,
      "min_width": null,
      "object_fit": null,
      "object_position": null,
      "order": null,
      "overflow": null,
      "overflow_x": null,
      "overflow_y": null,
      "padding": null,
      "right": null,
      "top": null,
      "visibility": null,
      "width": null
     }
    },
    "e4ecc1866bb74a6ca02cc4140886aa6a": {
     "model_module": "@jupyter-widgets/controls",
     "model_module_version": "1.5.0",
     "model_name": "FloatProgressModel",
     "state": {
      "_dom_classes": [],
      "_model_module": "@jupyter-widgets/controls",
      "_model_module_version": "1.5.0",
      "_model_name": "FloatProgressModel",
      "_view_count": null,
      "_view_module": "@jupyter-widgets/controls",
      "_view_module_version": "1.5.0",
      "_view_name": "ProgressView",
      "bar_style": "success",
      "description": "",
      "description_tooltip": null,
      "layout": "IPY_MODEL_94788030df9a41df9f85a7e0c71ac329",
      "max": 20000,
      "min": 0,
      "orientation": "horizontal",
      "style": "IPY_MODEL_227cfa3bc8384250975e702115aba476",
      "value": 20000
     }
    },
    "eb68862f090e43378393bb775254649c": {
     "model_module": "@jupyter-widgets/controls",
     "model_module_version": "1.5.0",
     "model_name": "HTMLModel",
     "state": {
      "_dom_classes": [],
      "_model_module": "@jupyter-widgets/controls",
      "_model_module_version": "1.5.0",
      "_model_name": "HTMLModel",
      "_view_count": null,
      "_view_module": "@jupyter-widgets/controls",
      "_view_module_version": "1.5.0",
      "_view_name": "HTMLView",
      "description": "",
      "description_tooltip": null,
      "layout": "IPY_MODEL_a16a4866d7934ad194a385dde15111ba",
      "placeholder": "​",
      "style": "IPY_MODEL_77db486c58bb4dce992039fee53dec2a",
      "value": "Map: 100%"
     }
    }
   }
  }
 },
 "nbformat": 4,
 "nbformat_minor": 5
}
