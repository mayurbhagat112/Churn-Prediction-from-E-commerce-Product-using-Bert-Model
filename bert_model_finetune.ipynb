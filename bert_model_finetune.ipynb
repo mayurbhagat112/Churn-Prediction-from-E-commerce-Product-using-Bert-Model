{
 "cells": [
  {
   "cell_type": "code",
   "execution_count": null,
   "id": "0",
   "metadata": {
    "id": "8929c91e-6e0e-49df-86c7-30399797be01"
   },
   "outputs": [],
   "source": [
    "#required package\n",
    "!pip install transformers datasets torch scikit-learn"
   ]
  },
  {
   "cell_type": "code",
   "execution_count": null,
   "id": "1",
   "metadata": {
    "id": "265d342d-d053-411b-a950-ac13506c9980"
   },
   "outputs": [],
   "source": [
    "#import Required packages\n",
    "import pandas as pd\n",
    "import matplotlib.pyplot as plt\n",
    "import re\n",
    "from datasets import Dataset\n",
    "from transformers import BertTokenizer,BertForSequenceClassification,Trainer, TrainingArguments,BertConfig\n",
    "from sklearn.model_selection import train_test_split\n",
    "from sklearn.metrics import precision_recall_fscore_support, accuracy_score\n",
    "from transformers.trainer_callback import EarlyStoppingCallback\n",
    "import torch\n",
    "import logging"
   ]
  },
  {
   "cell_type": "code",
   "execution_count": null,
   "id": "2",
   "metadata": {
    "id": "db6548db-78de-4adb-990e-849d80c3a2cd"
   },
   "outputs": [],
   "source": [
    "#Read Dataset\n",
    "df=pd.read_csv(\"amazon_review.csv\")"
   ]
  },
  {
   "cell_type": "code",
   "execution_count": null,
   "id": "3",
   "metadata": {
    "colab": {
     "base_uri": "https://localhost:8080/",
     "height": 423
    },
    "id": "d2b04e08-af67-4a85-881b-e25f4d2ead26",
    "outputId": "14ec0ed2-318c-4d90-a832-51d0ec1e3531"
   },
   "outputs": [],
   "source": [
    "df #dataset"
   ]
  },
  {
   "cell_type": "code",
   "execution_count": null,
   "id": "4",
   "metadata": {
    "colab": {
     "base_uri": "https://localhost:8080/",
     "height": 206
    },
    "id": "88b94ab3-139e-4f66-a2d2-7da9938970e3",
    "outputId": "75771147-c4e0-4d58-f6b4-ed7021171f94"
   },
   "outputs": [],
   "source": [
    "df.head() #top 5 rows"
   ]
  },
  {
   "cell_type": "code",
   "execution_count": null,
   "id": "5",
   "metadata": {
    "colab": {
     "base_uri": "https://localhost:8080/",
     "height": 206
    },
    "id": "11680add-5066-4ba6-8100-d87014e65609",
    "outputId": "88739386-5dc6-4e18-e661-18765d9d1ac8"
   },
   "outputs": [],
   "source": [
    "df.tail() #Last 5 rows"
   ]
  },
  {
   "cell_type": "code",
   "execution_count": null,
   "id": "6",
   "metadata": {
    "colab": {
     "base_uri": "https://localhost:8080/"
    },
    "id": "d6a0342f-2262-4d8e-9e14-22920121c00d",
    "outputId": "76734cde-0d94-474f-9240-fb819f5fcabb"
   },
   "outputs": [],
   "source": [
    "df.info() #information about dataset"
   ]
  },
  {
   "cell_type": "code",
   "execution_count": null,
   "id": "7",
   "metadata": {
    "colab": {
     "base_uri": "https://localhost:8080/",
     "height": 147
    },
    "id": "fca487eb-52a5-4a68-8aa5-891db4b84d9f",
    "outputId": "1febc29d-5c9c-4585-d0d2-6bdfb723d3cc"
   },
   "outputs": [],
   "source": [
    "df.isnull().sum() #check the null value"
   ]
  },
  {
   "cell_type": "code",
   "execution_count": null,
   "id": "8",
   "metadata": {
    "colab": {
     "base_uri": "https://localhost:8080/"
    },
    "id": "44835d11-1f12-4ead-84bb-17e0fc71f2c9",
    "outputId": "b1689206-9821-4268-a0e0-eff3039f1ab9"
   },
   "outputs": [],
   "source": [
    "df.duplicated().sum() #duplicate remove"
   ]
  },
  {
   "cell_type": "code",
   "execution_count": null,
   "id": "9",
   "metadata": {
    "colab": {
     "base_uri": "https://localhost:8080/",
     "height": 178
    },
    "id": "95754458-709f-43e9-8892-b9f13ae235cf",
    "outputId": "d1da3dc8-2a4d-4910-e2ca-76e4801602d8"
   },
   "outputs": [],
   "source": [
    "df['label'].value_counts() #label count"
   ]
  },
  {
   "cell_type": "code",
   "execution_count": null,
   "id": "10",
   "metadata": {
    "colab": {
     "base_uri": "https://localhost:8080/",
     "height": 528
    },
    "id": "0414941f-8ebd-4665-829e-c9059ceee9f2",
    "outputId": "9dc7890a-9b1b-47d7-813a-13abd8dd4d91"
   },
   "outputs": [],
   "source": [
    "#Distribution of labels\n",
    "data=df['label'].value_counts()\n",
    "ax=data.plot(kind='bar')\n",
    "ax.bar_label(ax.containers[0])\n",
    "plt.title(\"Distribution Of Labels\")\n",
    "plt.show()"
   ]
  },
  {
   "cell_type": "code",
   "execution_count": null,
   "id": "11",
   "metadata": {
    "colab": {
     "base_uri": "https://localhost:8080/",
     "height": 36
    },
    "id": "cb0d2da4-6ac4-4038-baf1-3f27cb3405f3",
    "outputId": "bcf90946-0e9e-497e-dac7-350265e0841a"
   },
   "outputs": [],
   "source": [
    "df['text'][0] #In dataset text col first row"
   ]
  },
  {
   "cell_type": "code",
   "execution_count": null,
   "id": "12",
   "metadata": {
    "id": "3bcf1440-a6d9-4941-ae55-5c82d697d866"
   },
   "outputs": [],
   "source": [
    "#Apply Preprocess Step On That\n",
    "def clean_text(text):\n",
    "    text = re.sub(r'<[^>]+>', ' ', text)  # Remove HTML tags\n",
    "\n",
    "    text = re.sub(r'\\s+', ' ', text).strip()  # Normalize whitespace\n",
    "\n",
    "    text = text.lower() #lowercase\n",
    "\n",
    "    return text\n",
    "\n",
    "\n",
    "df['text'] = df['text'].apply(clean_text)"
   ]
  },
  {
   "cell_type": "code",
   "execution_count": null,
   "id": "13",
   "metadata": {
    "colab": {
     "base_uri": "https://localhost:8080/",
     "height": 70
    },
    "id": "9f0a8f30-7e8a-4abf-b4e7-8dbe12e3be3e",
    "outputId": "f09af832-9a99-4456-d351-9acb7d8e4c83"
   },
   "outputs": [],
   "source": [
    "df['text'][5555]"
   ]
  },
  {
   "cell_type": "code",
   "execution_count": null,
   "id": "14",
   "metadata": {
    "id": "468c23ad-9124-4235-b59f-8fe6c718a69b"
   },
   "outputs": [],
   "source": [
    "# If your labels are __label__1 and __label__2\n",
    "def convert_label(label):\n",
    "    return 1 if label == '__label__1' else 0  # 1: churn/negative, 0: not churn/positive"
   ]
  },
  {
   "cell_type": "code",
   "execution_count": null,
   "id": "15",
   "metadata": {
    "id": "89efb10f-d0c0-4706-8b9d-fc978a6523d1"
   },
   "outputs": [],
   "source": [
    "df['label'] = df['label'].apply(convert_label)"
   ]
  },
  {
   "cell_type": "code",
   "execution_count": null,
   "id": "16",
   "metadata": {
    "colab": {
     "base_uri": "https://localhost:8080/",
     "height": 423
    },
    "id": "22688f30-0885-4b63-b4e7-2ee7ab34ac7c",
    "outputId": "66428515-ba1f-462a-b43b-42d9b4c35dc2"
   },
   "outputs": [],
   "source": [
    "df"
   ]
  },
  {
   "cell_type": "code",
   "execution_count": null,
   "id": "17",
   "metadata": {
    "id": "O35IQ2ld84oz"
   },
   "outputs": [],
   "source": [
    "#train and test split\n",
    "train_df, test_df = train_test_split(df, test_size=0.2, random_state=42)"
   ]
  },
  {
   "cell_type": "code",
   "execution_count": null,
   "id": "18",
   "metadata": {
    "colab": {
     "base_uri": "https://localhost:8080/"
    },
    "id": "4ab2a624-80ad-4ce0-b553-9ba8c3838aff",
    "outputId": "12cb198e-21bc-4d00-dccf-ffcaff3db280"
   },
   "outputs": [],
   "source": [
    "train_df.shape"
   ]
  },
  {
   "cell_type": "code",
   "execution_count": null,
   "id": "19",
   "metadata": {
    "colab": {
     "base_uri": "https://localhost:8080/"
    },
    "id": "66ead363-9fea-4a3b-8cc3-8bd3c49f1443",
    "outputId": "ddfa42ba-88ef-458d-f4c5-ff59b2d8d0aa"
   },
   "outputs": [],
   "source": [
    "test_df.shape"
   ]
  },
  {
   "cell_type": "code",
   "execution_count": null,
   "id": "20",
   "metadata": {
    "colab": {
     "base_uri": "https://localhost:8080/",
     "height": 205,
     "referenced_widgets": [
      "ffe3447445634d78a809dc5f9e2fb938",
      "2a1845f101544e7585dd4385749da4b4",
      "af46897241a146798869f122b295e6a8",
      "c175d7aca49a4dc78e2bed124a5ff862",
      "e10172152b9f45c294aeb7528be10e0d",
      "b3ddde13e117460f940664137ed21f6a",
      "2f7650d42f084673a9a29a1c7caf1d7c",
      "246567ff818e48fd9592ff47877ed484",
      "d6f6d26435114ae7a530163f683f4e5b",
      "621d84a091a84b439e2e6a0b39975085",
      "5e57433e160e478aa867762d94365cfb",
      "44f7afdb7cce48e68ee036bfe45735c4",
      "4ef96e30cd7f450c9c7cf655012d0a3c",
      "f027dd43e49e45bebf05855484a80c2d",
      "d08a5439248841f3a38a101aeb03726c",
      "060633dbabcd453cb6ab65e388439461",
      "f05854fa27344565859652e7b31cac3d",
      "e090f35922a548f3a6befc0100eb93b4",
      "03cf793195ed4f50ae2edd844dc21d85",
      "8fb2077e498b4b86a563a0aae989e3f0",
      "c92884b616f54ef2b48439364900773f",
      "01faf9aa59e54f53bc6f076e745746e5"
     ]
    },
    "id": "de9c5e89-ada4-472c-9736-326bcd063336",
    "outputId": "2959835a-d0e2-4313-8835-212997efe1e2"
   },
   "outputs": [],
   "source": [
    "#convert the dataset into huggingface format\n",
    "train_dataset = Dataset.from_pandas(train_df)\n",
    "test_dataset = Dataset.from_pandas(test_df)\n",
    "\n",
    "#bert tokenizer\n",
    "tokenizer = BertTokenizer.from_pretrained('bert-base-uncased')\n",
    "\n",
    "#tokenize function\n",
    "def tokenize_function(examples):\n",
    "    return tokenizer(examples['text'], padding='max_length', truncation=True, max_length=128)\n",
    "\n",
    "#Apply tokenization\n",
    "train_dataset = train_dataset.map(tokenize_function, batched=True)\n",
    "test_dataset = test_dataset.map(tokenize_function, batched=True)\n",
    "\n",
    "#Set format for PyTorch\n",
    "train_dataset.set_format('torch', columns=['input_ids', 'attention_mask', 'label'])\n",
    "test_dataset.set_format('torch', columns=['input_ids', 'attention_mask', 'label'])"
   ]
  },
  {
   "cell_type": "code",
   "execution_count": null,
   "id": "21",
   "metadata": {
    "colab": {
     "base_uri": "https://localhost:8080/"
    },
    "id": "dxxbwHtnLrDo",
    "outputId": "a0ae07fc-0e12-4178-e31d-e1869d26692c"
   },
   "outputs": [],
   "source": [
    "#load the bert model with number of classes and dropout\n",
    "num_labels = len(df['label'].unique())\n",
    "config = BertConfig.from_pretrained(\n",
    "    'bert-base-uncased',\n",
    "    num_labels=num_labels,\n",
    "    hidden_dropout_prob=0.15,\n",
    "    attention_probs_dropout_prob=0.15\n",
    ")\n",
    "model = BertForSequenceClassification.from_pretrained('bert-base-uncased', config=config)"
   ]
  },
  {
   "cell_type": "code",
   "execution_count": null,
   "id": "22",
   "metadata": {
    "id": "gd-Y18GxMJCg"
   },
   "outputs": [],
   "source": [
    "from sklearn.metrics import precision_recall_fscore_support, accuracy_score\n",
    "\n",
    "def compute_metrics(pred):\n",
    "    labels = pred.label_ids\n",
    "    preds = pred.predictions.argmax(-1)\n",
    "    acc = accuracy_score(labels, preds)\n",
    "    precision, recall, f1, _ = precision_recall_fscore_support(labels, preds, average='weighted')\n",
    "    return {'accuracy': acc, 'precision': precision, 'recall': recall, 'f1': f1}"
   ]
  },
  {
   "cell_type": "code",
   "execution_count": null,
   "id": "23",
   "metadata": {
    "id": "f976aaf8-d229-45d8-844f-5f594a9b774c"
   },
   "outputs": [],
   "source": [
    "#define the traning arguments\n",
    "training_args = TrainingArguments(\n",
    "    output_dir='./results5.0',\n",
    "    num_train_epochs=2,\n",
    "    per_device_train_batch_size=16,\n",
    "    per_device_eval_batch_size=16,\n",
    "    warmup_steps=500,\n",
    "    weight_decay=0.025,\n",
    "    logging_dir='./logs',\n",
    "    logging_steps=10,\n",
    "    eval_strategy='epoch',\n",
    "    save_strategy='epoch',\n",
    "    load_best_model_at_end=True,\n",
    "    metric_for_best_model='accuracy',\n",
    "    greater_is_better=True,\n",
    "    learning_rate=1e-5,\n",
    "    lr_scheduler_type='cosine',\n",
    "    seed=42,\n",
    ")"
   ]
  },
  {
   "cell_type": "code",
   "execution_count": null,
   "id": "24",
   "metadata": {
    "id": "fb238da4-98db-4e77-8573-1c5d71511f8f"
   },
   "outputs": [],
   "source": [
    "#Initialize trainer with EarlyStoppingCallback\n",
    "trainer = Trainer(\n",
    "    model=model,\n",
    "    args=training_args,\n",
    "    train_dataset=train_dataset,\n",
    "    eval_dataset=test_dataset,\n",
    "    compute_metrics=compute_metrics,\n",
    "    callbacks=[EarlyStoppingCallback(\n",
    "        early_stopping_patience=2,\n",
    "        early_stopping_threshold=0.00001\n",
    "    )]\n",
    ")"
   ]
  },
  {
   "cell_type": "code",
   "execution_count": null,
   "id": "25",
   "metadata": {
    "colab": {
     "base_uri": "https://localhost:8080/",
     "height": 314
    },
    "id": "20e26b55-a30b-4503-acb9-707eec05c2f3",
    "outputId": "9f6cc95b-f410-4d5d-82ed-ad7e72de7cf6"
   },
   "outputs": [],
   "source": [
    "#train\n",
    "trainer.train()"
   ]
  },
  {
   "cell_type": "code",
   "execution_count": null,
   "id": "26",
   "metadata": {
    "colab": {
     "base_uri": "https://localhost:8080/",
     "height": 1000
    },
    "id": "afe11de9-7552-4529-9d37-2c199af8ea50",
    "outputId": "9949af54-380d-434a-f329-563c03d4345c"
   },
   "outputs": [],
   "source": [
    "!pip install datasets numpy --upgrade #sometimes after run this train give numpy error then run this cell."
   ]
  },
  {
   "cell_type": "code",
   "execution_count": null,
   "id": "27",
   "metadata": {
    "colab": {
     "base_uri": "https://localhost:8080/",
     "height": 74
    },
    "id": "tGlOPPRmwDR8",
    "outputId": "51177e8a-c98c-4424-ca75-163926a6db2b"
   },
   "outputs": [],
   "source": [
    "#Evaluate\n",
    "eval_results = trainer.evaluate()\n",
    "print(\"Evaluation results:\", eval_results)"
   ]
  },
  {
   "cell_type": "code",
   "execution_count": null,
   "id": "28",
   "metadata": {
    "colab": {
     "base_uri": "https://localhost:8080/",
     "height": 807
    },
    "id": "BoVhXlQqgf2U",
    "outputId": "9a2f0d97-86c6-475a-ba9c-df18b7b1c93b"
   },
   "outputs": [],
   "source": [
    "import matplotlib.pyplot as plt\n",
    "\n",
    "# Data from your results\n",
    "epochs = [1, 2]\n",
    "train_loss = [0.224400, 0.078900]\n",
    "val_loss = [0.174372, 0.197357]\n",
    "accuracy = [0.945400, 0.947200]\n",
    "precision = [0.945400, 0.947227]\n",
    "recall = [0.945400, 0.947200]\n",
    "f1 = [0.945400, 0.947201]\n",
    "\n",
    "# Create a figure with two subplots\n",
    "fig, (ax1, ax2) = plt.subplots(2, 1, figsize=(10, 8))\n",
    "\n",
    "# Plot training and validation loss\n",
    "ax1.plot(epochs, train_loss, label='Training Loss', marker='o', color='blue')\n",
    "ax1.plot(epochs, val_loss, label='Validation Loss', marker='o', color='red')\n",
    "ax1.set_title('Training and Validation Loss per Epoch')\n",
    "ax1.set_xlabel('Epoch')\n",
    "ax1.set_ylabel('Loss')\n",
    "ax1.legend()\n",
    "ax1.grid(True)\n",
    "\n",
    "# Plot accuracy, precision, recall, and F1 score\n",
    "ax2.plot(epochs, accuracy, label='Accuracy', marker='o', color='green')\n",
    "ax2.plot(epochs, precision, label='Precision', marker='o', color='purple')\n",
    "ax2.plot(epochs, recall, label='Recall', marker='o', color='orange')\n",
    "ax2.plot(epochs, f1, label='F1 Score', marker='o', color='brown')\n",
    "ax2.set_title('Performance Metrics per Epoch')\n",
    "ax2.set_xlabel('Epoch')\n",
    "ax2.set_ylabel('Score')\n",
    "ax2.legend()\n",
    "ax2.grid(True)\n",
    "\n",
    "# Adjust layout to prevent overlap\n",
    "plt.tight_layout()\n",
    "\n",
    "# Save the plot\n",
    "plt.savefig('model_metrics.png')\n",
    "plt.show()\n"
   ]
  },
  {
   "cell_type": "code",
   "execution_count": null,
   "id": "29",
   "metadata": {
    "colab": {
     "base_uri": "https://localhost:8080/"
    },
    "id": "ehOb7rmLgikr",
    "outputId": "2bda9044-e25a-4767-9dbe-f85a788b92ff"
   },
   "outputs": [],
   "source": [
    "model.save_pretrained('./bert_model')\n",
    "tokenizer.save_pretrained('./bert_model')"
   ]
  },
  {
   "cell_type": "code",
   "execution_count": null,
   "id": "30",
   "metadata": {
    "colab": {
     "base_uri": "https://localhost:8080/"
    },
    "id": "KA-P4aB530rI",
    "outputId": "9926cb1f-339e-493e-9e3a-cb333d60806d"
   },
   "outputs": [],
   "source": [
    "#inference\n",
    "from transformers import pipeline\n",
    "\n",
    "classifier = pipeline('text-classification', model='./bert_model', tokenizer='./bert_model')\n",
    "text = \"I was a bit skeptical at first, but this product turned out to be amazing. It works exactly as described and the quality is top-notch. Totally worth the money!\"\n",
    "prediction = classifier(text)\n",
    "print(f\"Text: {text}\\nPrediction: {prediction}\")"
   ]
  },
  {
   "cell_type": "code",
   "execution_count": null,
   "id": "31",
   "metadata": {
    "id": "rlMDA_XL4xG_"
   },
   "outputs": [],
   "source": []
  }
 ],
 "metadata": {
  "accelerator": "GPU",
  "colab": {
   "gpuType": "T4",
   "provenance": []
  },
  "kernelspec": {
   "display_name": "Python 3",
   "name": "python3"
  },
  "language_info": {
   "codemirror_mode": {
    "name": "ipython",
    "version": 3
   },
   "file_extension": ".py",
   "mimetype": "text/x-python",
   "name": "python",
   "nbconvert_exporter": "python",
   "pygments_lexer": "ipython3",
   "version": "3.12.7"
  }
 },
 "nbformat": 4,
 "nbformat_minor": 5
}
